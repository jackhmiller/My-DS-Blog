{
  "nbformat": 4,
  "nbformat_minor": 5,
  "metadata": {
    "kernelspec": {
      "display_name": "Python 3",
      "language": "python",
      "name": "python3"
    },
    "language_info": {
      "codemirror_mode": {
        "name": "ipython",
        "version": 3
      },
      "file_extension": ".py",
      "mimetype": "text/x-python",
      "name": "python",
      "nbconvert_exporter": "python",
      "pygments_lexer": "ipython3",
      "version": "3.8.8"
    },
    "colab": {
      "name": "Untitled.ipynb",
      "provenance": []
    }
  },
  "cells": [
    {
      "cell_type": "markdown",
      "metadata": {
        "id": "b73a4cc9-db86-43d0-bcc4-e3a6cf8c5083"
      },
      "source": [
        "# Group Lasso\n",
        "\n",
        "- toc: false\n",
        "- branch: master\n",
        "- badges: true\n",
        "- comments: true\n",
        "- image: images/Lasso.png\n",
        "- hide: false\n",
        "- search_exclude: false"
      ],
      "id": "b73a4cc9-db86-43d0-bcc4-e3a6cf8c5083"
    },
    {
      "cell_type": "markdown",
      "metadata": {
        "id": "1e75dc7c-010e-4ea2-831a-fda0d3f3eb47"
      },
      "source": [
        "It is frequently the case when dealing with high dimensional datasets that there are more variables than observations but we only expect a small fragment of the variables to be truly meaningful. To compensate for such occurances and enhance our ability to generalize our resulting model, it is common to employ regularization techniques which are also used to reduce overfitting in other settings. The most common examples are L1 (Lasso) and L2 (Ridge) regularization. Lasso, in particular, causes sparsity for weights. It provides sparse solutions, because it will send to zero some of the β coefficients (the least related with the response variable). The effect of this penalization can be controlled using the λ parameter. A large λ value provides solutions where the penalization has a greater importance, and thus there are more zeros among the β coefficients. \n",
        "<br>"
      ],
      "id": "1e75dc7c-010e-4ea2-831a-fda0d3f3eb47"
    },
    {
      "cell_type": "markdown",
      "metadata": {
        "id": "72caaa7e-d264-47bd-94b9-c92a2a56035e"
      },
      "source": [
        "However, there are many regression problems dealing with high dimensional data in which the covariates have a natural group structure, and it is desirable to have all coefficients within a group become nonzero (or zero) simultaneously. For example, in biostatistics it is common to deal with genetic datasets in which predictors are grouped into genetical pathways. In stock market analysis one can group companies from the same business segment. In climate data one can group different regions… And lasso provides individual sparse solutions, not group sparse. A more general leading example is when we have qualitative factors among our predictors. We typically code their levels using a set of dummy variables or contrasts, and would want to include or exclude this group of variables together. For such a scenario, we have a technique called the Group Lasso, which accounts for a natural grouped structure of predictors while causing sparsity for weights. "
      ],
      "id": "72caaa7e-d264-47bd-94b9-c92a2a56035e"
    },
    {
      "cell_type": "markdown",
      "metadata": {
        "id": "e65e396e-dfd8-4565-ac9d-189d4775d48d"
      },
      "source": [
        "![images/GL.PNG](attachment:5aedbfcb-0126-4679-ba7e-1f6c9492019e.PNG)"
      ],
      "id": "e65e396e-dfd8-4565-ac9d-189d4775d48d"
    },
    {
      "cell_type": "markdown",
      "metadata": {
        "id": "2161defc-df61-4cfc-8437-63fb877b6620"
      },
      "source": [
        "In the image above, we can see a visual depiction of the contours of the L1, group lasso, and L2 penalties respectively (Source: Ming Yuan, \"Model selection and estimation in regression with grouped variables,\" Statistical Methodology 68:1 (Feb 2006). Specifically, we can see how the group lasso (middle image) incorporates elements of both the L1 and L2 penalties. "
      ],
      "id": "2161defc-df61-4cfc-8437-63fb877b6620"
    },
    {
      "cell_type": "markdown",
      "metadata": {
        "id": "21db2f10-9b87-4fe8-a988-1e133c9cfb67"
      },
      "source": [
        "Lets get into the math of the Group Lasso. Consider a linear regression model involving J groups of covariates, where j = 1,..., J, and the vector $\\mathbb{Z}_j \\in \\mathbb{R}^{pj}$ represents the covariates of group j. Our goal is to predict a real valued response $Y \\in \\mathbb{R}$ based on the collection of covariates ($\\mathbb{Z}_1, ..., \\mathbb{Z}_J $. A linear model for the regression function $\\mathbb{E}(Y|\\mathbb{Z})$ $\\sum_{j=1}^{J}\\mathbb{Z}_{j}^{T}\\theta_j$ where $\\theta_j \\in \\mathbb{R}^{pj}$ represents a group of $p_j$ regression coefficients."
      ],
      "id": "21db2f10-9b87-4fe8-a988-1e133c9cfb67"
    },
    {
      "cell_type": "markdown",
      "metadata": {
        "id": "44b028a0-4357-410e-bb60-bcbb2dcf09ec"
      },
      "source": [
        "Given a collection of N samples $\\left \\{ (y_i, z_{i1}, z_{i2},..., z_{iJ}) \\right \\}_{i=1}^{N}$ the group lasso solves the convex problem: \n",
        "$$ \\underset{\\theta_j\\in\\mathbb{R}^{pj}}{min}\\frac{1}{2}\\left \\| y-\\sum_{j=1}^{J}\\mathbb{Z}_{j}^{T}\\theta_j \\right \\|_{2}^{2} + \\lambda\\sum_{j=1}^{J}\\left \\| \\theta_j \\right \\|_2 $$\n",
        "where $\\left \\| \\theta_j \\right \\|_2$ is the euclidean norm of the vector $\\theta_j$."
      ],
      "id": "44b028a0-4357-410e-bb60-bcbb2dcf09ec"
    },
    {
      "cell_type": "markdown",
      "metadata": {
        "id": "3b0bcb2d-665e-4b7b-acd6-b7a792f82970"
      },
      "source": [
        "This is a group generalization of the lasso, with the properties:\n",
        "- depending on $\\lambda \\geq 0$, either the entire vector $\\theta_j$ will be zero, or all its elements will be nonzero\n",
        "- when $p_j=1$ (continuous variables), then we have $\\left \\| \\theta_j \\right \\|_2 = \\left | \\theta_j \\right |$, so if all of the groups are singletons, the optimization problem reduces to ordinary lasso. "
      ],
      "id": "3b0bcb2d-665e-4b7b-acd6-b7a792f82970"
    },
    {
      "cell_type": "markdown",
      "metadata": {
        "id": "c1279dd7-85ac-4506-b680-bb86ab33d3b0"
      },
      "source": [
        "We can solve the group lasso problem using block coordinate descent. Here is a proof showing that we can solve it iteratively, for $j = 1 · · · , J$:"
      ],
      "id": "c1279dd7-85ac-4506-b680-bb86ab33d3b0"
    },
    {
      "cell_type": "markdown",
      "metadata": {
        "id": "9527fdda-14c1-4c02-b945-6fb96e8ff7aa"
      },
      "source": [
        "We start with our optimization problem:\n",
        "$$ \\underset{\\theta_j\\in\\mathbb{R}^{pj}}{min}\\frac{1}{2}\\left \\| r_j-\\mathbb{Z}_j^T\\theta_j \\right \\|_2^2 + \\lambda\\left \\| \\theta_j \\right \\|_2 $$\n",
        "Where $r_j = y - \\sum_{k\\neq j}^{}Z_k^T\\theta_k$"
      ],
      "id": "9527fdda-14c1-4c02-b945-6fb96e8ff7aa"
    },
    {
      "cell_type": "markdown",
      "metadata": {
        "id": "f2f1a7d7-de44-4cc2-9c19-df094c34a26a"
      },
      "source": [
        "With a bit of manipulation we get $$ -Z_j^T(y-\\sum_{j=1}^{J}Z_j\\theta_j)+\\lambda(s(\\frac{\\theta_j}{\\left \\| \\theta_j \\right \\|_{2}})) $$"
      ],
      "id": "f2f1a7d7-de44-4cc2-9c19-df094c34a26a"
    },
    {
      "cell_type": "markdown",
      "metadata": {
        "id": "9a2afd3c-4b86-40c5-8bd5-dcbc9061a4b5"
      },
      "source": [
        "Using the definition of $r_j$ we can solve for $\\theta$:\n",
        "$$ \\theta_j = (Z_j^TZ_j + \\frac{\\lambda}{\\left \\| \\theta_j \\right \\|_2})^{-1}Z_j^Tr_j $$"
      ],
      "id": "9a2afd3c-4b86-40c5-8bd5-dcbc9061a4b5"
    },
    {
      "cell_type": "markdown",
      "metadata": {
        "id": "42c8fc35-ce28-4abc-ba43-7744d1eca174"
      },
      "source": [
        "Or $$ \\theta_j = S_{\\frac{\\lambda}{\\left \\| \\theta_j \\right \\|^2}}(\\frac{Z_{j}^{T}r_j}{Z_{j}^{T}Z_j}) $$"
      ],
      "id": "42c8fc35-ce28-4abc-ba43-7744d1eca174"
    },
    {
      "cell_type": "markdown",
      "metadata": {
        "id": "3613e762-ea06-4505-babe-a10861741904"
      },
      "source": [
        "<br>"
      ],
      "id": "3613e762-ea06-4505-babe-a10861741904"
    },
    {
      "cell_type": "markdown",
      "metadata": {
        "id": "1af651e0-648e-41ba-b525-b9c37cd21972"
      },
      "source": [
        "We will now implement the block coordinate proximal gradient descent to solve the group lasso problem presented above. We will be using the kaggle classic boston housing dataset, where our independent variable is price, and our dependent variables are a combination of categorical (number of bed/bath) and continous (price/sq feet) features. Our first step is to create dummy variables corresponding to the categorical variables. To avoid multicollinearity issues we use 0 bedrooms, 1 bathroom, and short sale as baselines, respectively. To improve results we standardize our data, and will use a $\\lambda$ value of 0.012."
      ],
      "id": "1af651e0-648e-41ba-b525-b9c37cd21972"
    },
    {
      "cell_type": "code",
      "metadata": {
        "id": "dd3a0cb2-4765-4869-8f21-64b81454b7b4"
      },
      "source": [
        "from sklearn.preprocessing import MinMaxScaler\n",
        "import itertools"
      ],
      "id": "dd3a0cb2-4765-4869-8f21-64b81454b7b4",
      "execution_count": null,
      "outputs": []
    },
    {
      "cell_type": "code",
      "metadata": {
        "id": "05f36c24-b96e-43fb-88ee-f2b8d6b3f3d4"
      },
      "source": [
        "bh = pd.read_csv(\"boston_housing.csv\")"
      ],
      "id": "05f36c24-b96e-43fb-88ee-f2b8d6b3f3d4",
      "execution_count": null,
      "outputs": []
    },
    {
      "cell_type": "markdown",
      "metadata": {
        "id": "bc8c29aa-a43f-4352-b857-5c17ff9ffd7b"
      },
      "source": [
        "Create dummy variables"
      ],
      "id": "bc8c29aa-a43f-4352-b857-5c17ff9ffd7b"
    },
    {
      "cell_type": "code",
      "metadata": {
        "id": "b8390503-cc39-44df-9cdc-60a68520be49"
      },
      "source": [
        "rooms = pd.get_dummies(bh.Bedrooms, prefix='Bedrooms')\n",
        "baths = pd.get_dummies(bh.Bathrooms, prefix='Bath')\n",
        "status = pd.get_dummies(bh.Status, prefix='Status')"
      ],
      "id": "b8390503-cc39-44df-9cdc-60a68520be49",
      "execution_count": null,
      "outputs": []
    },
    {
      "cell_type": "code",
      "metadata": {
        "id": "d529cb5d-b050-4d73-b620-86654d09653d"
      },
      "source": [
        "df = pd.concat([bh, rooms, baths, status], axis=1)"
      ],
      "id": "d529cb5d-b050-4d73-b620-86654d09653d",
      "execution_count": null,
      "outputs": []
    },
    {
      "cell_type": "code",
      "metadata": {
        "id": "76b3f190-0b43-4b82-b052-ed8e37dd8604"
      },
      "source": [
        "df.drop(['Bathrooms', 'Bedrooms', 'Status'], axis=1, inplace=True)"
      ],
      "id": "76b3f190-0b43-4b82-b052-ed8e37dd8604",
      "execution_count": null,
      "outputs": []
    },
    {
      "cell_type": "markdown",
      "metadata": {
        "id": "c4de523a-f1fe-4391-85ef-e1c34a6e4e0a"
      },
      "source": [
        "Normalize data"
      ],
      "id": "c4de523a-f1fe-4391-85ef-e1c34a6e4e0a"
    },
    {
      "cell_type": "code",
      "metadata": {
        "id": "4b2ad0b6-9dfa-4a1c-b351-aeafa5938a7a"
      },
      "source": [
        "scaler = MinMaxScaler()\n",
        "df['Price'] = scaler.fit_transform(df['Price'].values.reshape(-1,1))\n",
        "df['PriceSF'] = scaler.fit_transform(df['PriceSF'].values.reshape(-1,1))"
      ],
      "id": "4b2ad0b6-9dfa-4a1c-b351-aeafa5938a7a",
      "execution_count": null,
      "outputs": []
    },
    {
      "cell_type": "code",
      "metadata": {
        "id": "61ff0acb-b988-4e68-9ab7-a9641d6e157b",
        "outputId": "41714a9c-d131-43c3-de82-54479ee2f31c"
      },
      "source": [
        "df.head()"
      ],
      "id": "61ff0acb-b988-4e68-9ab7-a9641d6e157b",
      "execution_count": null,
      "outputs": [
        {
          "data": {
            "text/html": [
              "<div>\n",
              "<style scoped>\n",
              "    .dataframe tbody tr th:only-of-type {\n",
              "        vertical-align: middle;\n",
              "    }\n",
              "\n",
              "    .dataframe tbody tr th {\n",
              "        vertical-align: top;\n",
              "    }\n",
              "\n",
              "    .dataframe thead th {\n",
              "        text-align: right;\n",
              "    }\n",
              "</style>\n",
              "<table border=\"1\" class=\"dataframe\">\n",
              "  <thead>\n",
              "    <tr style=\"text-align: right;\">\n",
              "      <th></th>\n",
              "      <th>Price</th>\n",
              "      <th>PriceSF</th>\n",
              "      <th>Bedrooms_0</th>\n",
              "      <th>Bedrooms_1</th>\n",
              "      <th>Bedrooms_2</th>\n",
              "      <th>Bedrooms_3</th>\n",
              "      <th>Bedrooms_4</th>\n",
              "      <th>Bath_1</th>\n",
              "      <th>Bath_2</th>\n",
              "      <th>Bath_3</th>\n",
              "      <th>Bath_4</th>\n",
              "      <th>Status_1</th>\n",
              "      <th>Status_2</th>\n",
              "      <th>Status_3</th>\n",
              "    </tr>\n",
              "  </thead>\n",
              "  <tbody>\n",
              "    <tr>\n",
              "      <th>0</th>\n",
              "      <td>0.389410</td>\n",
              "      <td>0.280785</td>\n",
              "      <td>0</td>\n",
              "      <td>0</td>\n",
              "      <td>0</td>\n",
              "      <td>1</td>\n",
              "      <td>0</td>\n",
              "      <td>0</td>\n",
              "      <td>0</td>\n",
              "      <td>1</td>\n",
              "      <td>0</td>\n",
              "      <td>1</td>\n",
              "      <td>0</td>\n",
              "      <td>0</td>\n",
              "    </tr>\n",
              "    <tr>\n",
              "      <th>1</th>\n",
              "      <td>0.188751</td>\n",
              "      <td>0.108646</td>\n",
              "      <td>0</td>\n",
              "      <td>0</td>\n",
              "      <td>0</td>\n",
              "      <td>0</td>\n",
              "      <td>1</td>\n",
              "      <td>0</td>\n",
              "      <td>0</td>\n",
              "      <td>1</td>\n",
              "      <td>0</td>\n",
              "      <td>1</td>\n",
              "      <td>0</td>\n",
              "      <td>0</td>\n",
              "    </tr>\n",
              "    <tr>\n",
              "      <th>2</th>\n",
              "      <td>0.262731</td>\n",
              "      <td>0.142556</td>\n",
              "      <td>0</td>\n",
              "      <td>0</td>\n",
              "      <td>0</td>\n",
              "      <td>0</td>\n",
              "      <td>1</td>\n",
              "      <td>0</td>\n",
              "      <td>0</td>\n",
              "      <td>1</td>\n",
              "      <td>0</td>\n",
              "      <td>1</td>\n",
              "      <td>0</td>\n",
              "      <td>0</td>\n",
              "    </tr>\n",
              "    <tr>\n",
              "      <th>3</th>\n",
              "      <td>0.447175</td>\n",
              "      <td>0.211009</td>\n",
              "      <td>0</td>\n",
              "      <td>0</td>\n",
              "      <td>0</td>\n",
              "      <td>0</td>\n",
              "      <td>1</td>\n",
              "      <td>0</td>\n",
              "      <td>0</td>\n",
              "      <td>0</td>\n",
              "      <td>1</td>\n",
              "      <td>1</td>\n",
              "      <td>0</td>\n",
              "      <td>0</td>\n",
              "    </tr>\n",
              "    <tr>\n",
              "      <th>4</th>\n",
              "      <td>0.042260</td>\n",
              "      <td>0.061014</td>\n",
              "      <td>0</td>\n",
              "      <td>0</td>\n",
              "      <td>0</td>\n",
              "      <td>1</td>\n",
              "      <td>0</td>\n",
              "      <td>1</td>\n",
              "      <td>0</td>\n",
              "      <td>0</td>\n",
              "      <td>0</td>\n",
              "      <td>1</td>\n",
              "      <td>0</td>\n",
              "      <td>0</td>\n",
              "    </tr>\n",
              "  </tbody>\n",
              "</table>\n",
              "</div>"
            ],
            "text/plain": [
              "      Price   PriceSF  Bedrooms_0  Bedrooms_1  Bedrooms_2  Bedrooms_3  \\\n",
              "0  0.389410  0.280785           0           0           0           1   \n",
              "1  0.188751  0.108646           0           0           0           0   \n",
              "2  0.262731  0.142556           0           0           0           0   \n",
              "3  0.447175  0.211009           0           0           0           0   \n",
              "4  0.042260  0.061014           0           0           0           1   \n",
              "\n",
              "   Bedrooms_4  Bath_1  Bath_2  Bath_3  Bath_4  Status_1  Status_2  Status_3  \n",
              "0           0       0       0       1       0         1         0         0  \n",
              "1           1       0       0       1       0         1         0         0  \n",
              "2           1       0       0       1       0         1         0         0  \n",
              "3           1       0       0       0       1         1         0         0  \n",
              "4           0       1       0       0       0         1         0         0  "
            ]
          },
          "execution_count": 356,
          "metadata": {},
          "output_type": "execute_result"
        }
      ]
    },
    {
      "cell_type": "code",
      "metadata": {
        "id": "d52c9708-0516-4b08-8300-9c2307851ab8"
      },
      "source": [
        "y = df['Price'].values"
      ],
      "id": "d52c9708-0516-4b08-8300-9c2307851ab8",
      "execution_count": null,
      "outputs": []
    },
    {
      "cell_type": "code",
      "metadata": {
        "id": "5d1011af-b396-4498-abfa-0cc253201dfa"
      },
      "source": [
        "features = df.drop('Price', axis=1)"
      ],
      "id": "5d1011af-b396-4498-abfa-0cc253201dfa",
      "execution_count": null,
      "outputs": []
    },
    {
      "cell_type": "code",
      "metadata": {
        "id": "265e76e7-b8da-42d1-ab0e-a3a785072ab1"
      },
      "source": [
        "groups = ['PriceSF', 'Bed', 'Bath', 'Status']"
      ],
      "id": "265e76e7-b8da-42d1-ab0e-a3a785072ab1",
      "execution_count": null,
      "outputs": []
    },
    {
      "cell_type": "markdown",
      "metadata": {
        "id": "f0cbb0b4-d74e-406a-a32c-d28bdcc21b10"
      },
      "source": [
        "Defining our soft thresholding function for PGM, and our loss function. "
      ],
      "id": "f0cbb0b4-d74e-406a-a32c-d28bdcc21b10"
    },
    {
      "cell_type": "code",
      "metadata": {
        "id": "00d87cbc-b526-4f22-a91a-38206fbcf25a"
      },
      "source": [
        "def soft_threshold(x, gamma=lamda):\n",
        "    for i, val in enumerate(x):\n",
        "        if val > gamma:\n",
        "            x[i] = 1-(lamda/abs(val-gamma))\n",
        "        elif val  < gamma:\n",
        "            x[i] = 1-(lamda/abs(val+gamma))   \n",
        "        elif (val <= gamma) and (val>= -gamma):\n",
        "            x[i] = 0\n",
        "    return x\n",
        "        \n",
        "def loss(b, l=0.012):\n",
        "    temp_coeffs = [[beta]*i for beta, i in zip(b, group_lengths)]\n",
        "    coeff_vector = np.array(list(itertools.chain(*temp_coeffs)))\n",
        "    f_x = np.sum(0.5*(y - np.dot(features.values,coeff_vector))**2)\n",
        "    penalty = l*sum([i**2 for i in b])\n",
        "    \n",
        "    return f_x + penalty\n",
        "\n",
        "def create_b_not_vector(b, i):\n",
        "    not_group_lengths = [j for k, j in enumerate(group_lengths) if k != i]\n",
        "    temp_coeffs = [[beta]*i for beta, i in zip(b, not_group_lengths)]\n",
        "    return np.array(list(itertools.chain(*temp_coeffs)))"
      ],
      "id": "00d87cbc-b526-4f22-a91a-38206fbcf25a",
      "execution_count": null,
      "outputs": []
    },
    {
      "cell_type": "code",
      "metadata": {
        "id": "c99aaf27-2116-4db4-abbc-d7600890757f"
      },
      "source": [
        "slices = [(0,1), (1, 6), (6, 10), (10, 13)]\n",
        "b = np.random.rand(len(features.columns))\n",
        "lamda = 0.012\n",
        "losses = [loss(b)]\n",
        "iterations = 1\n",
        "for iteration in range(200):\n",
        "    for sliced in slices:\n",
        "        Z = features[features.columns[sliced[0]:sliced[1]]]\n",
        "        Z_cols = Z.columns\n",
        "        Z_not = features.loc[:, [feat for feat in features.columns if feat not in Z_cols]]\n",
        "        b_not = [i for j, i in enumerate(b) if j not in range(sliced[0], sliced[1])]\n",
        "        r = y - np.dot(Z_not, b_not)\n",
        "        a = b[sliced[0]:sliced[1]] - np.sum((-Z.values.T*(r-np.dot(Z.values, b[sliced[0]:sliced[1]]))), axis=1)        \n",
        "        b[sliced[0]:sliced[1]] = soft_threshold(a)\n",
        "     \n",
        "    f_x = np.sum(0.5*(y - np.dot(features.values,b))**2)\n",
        "    penalty = lamda*sum([i**2 for i in b])\n",
        "    losses.append(f_x + penalty)\n",
        "    iterations += 1"
      ],
      "id": "c99aaf27-2116-4db4-abbc-d7600890757f",
      "execution_count": null,
      "outputs": []
    },
    {
      "cell_type": "markdown",
      "metadata": {
        "tags": [],
        "id": "4deaaab3-988b-4236-9529-478001857a65"
      },
      "source": [
        "And there you have it"
      ],
      "id": "4deaaab3-988b-4236-9529-478001857a65"
    }
  ]
}