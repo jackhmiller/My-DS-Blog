{
 "cells": [
  {
   "cell_type": "markdown",
   "id": "990659d5-31ae-4da3-8cef-bdb382600bce",
   "metadata": {
    "id": "d1a167fe-3ce7-40ea-9e72-1f4ef39ffd09",
    "tags": []
   },
   "source": [
    "# Zero Inflated Poisson (ZIP) Regression\n",
    "> \"How to effectively model count data with sparse predictors\"\n",
    "- toc: false\n",
    "- branch: master\n",
    "- badges: true\n",
    "- comments: true\n",
    "- image: images/zip.png\n",
    "- hide: false\n",
    "- search_exclude: false"
   ]
  },
  {
   "cell_type": "markdown",
   "id": "746f3fb0-0ffa-4d49-adf5-3b32cce34bf9",
   "metadata": {
    "tags": []
   },
   "source": [
    "### Motivation"
   ]
  },
  {
   "cell_type": "markdown",
   "id": "95d2531c-1b20-45f5-9f7b-f958194a5050",
   "metadata": {},
   "source": [
    "The Poisson distribution can be derived as a limiting form of the binomial distribution if you consider the distribution of the number of successes in a very large number of Bernoulli trials with a small probability of success in each trial. Thus, the Poisson distribution provides an approximation to the binomial for the analysis of rare events."
   ]
  },
  {
   "cell_type": "markdown",
   "id": "0c3daee3-e90a-4af8-9a5b-f6258474821d",
   "metadata": {},
   "source": [
    "The classic text on probability theory by Feller (1957) includes a number of examples of observations fitting the Poisson distribution, including data on the number of flying-bomb hits in the south of London during World War II. The city was divided into 576 small areas of one-quarter square kilometers each, and the number of areas hit exactly k times was counted. There were a total of 537 hits, so the average number of hits per area was 0.9323."
   ]
  },
  {
   "cell_type": "markdown",
   "id": "374e875b-1410-4f27-bc5f-029e115073cc",
   "metadata": {},
   "source": [
    "In the flying-bomb example, we can think of each day as one of a large number of trials where each specific area has only a small probability of being hit. Assuming independence across days would lead to a binomial distribution which is well approximated by the Poisson. Alternatively, if we consider the Poisson distribution in terms of a stochastic process, the porbability of at least one occurence of the event in a given time interval is propotional to the length of the interval. "
   ]
  },
  {
   "cell_type": "markdown",
   "id": "cfeafd04-03ef-4c5f-bcfd-181fb7d6176e",
   "metadata": {},
   "source": [
    "Unlike this traditional Poisson distribution, many real world phenomena produce counts that are almost always zero. For example, the number of sales per item in a store. Such data are hard to deal with using traditional models for counts data such as the Poisson, the Binomial or the Negative Binomial regression models. This is because such data sets contain more number of zero valued counts than what one would expect to observe using the traditional model’s probability distribution."
   ]
  },
  {
   "cell_type": "markdown",
   "id": "6a6e4230-b27b-480a-8e36-30b15a507a41",
   "metadata": {
    "id": "5c5dd155-76c1-4f47-b48d-fca70201ebb5"
   },
   "source": [
    "To demonstrate, recall the PMF for a Poisson distribution $$ P(y=k) = \\frac{e^{-\\lambda}*\\lambda^k}{k!}  $$\n",
    "Where $\\lambda_i = e^{x_i\\beta}$- here $\\beta$ is the vector of regression coefficients"
   ]
  },
  {
   "cell_type": "markdown",
   "id": "b5627461-c595-4e86-ab56-7fdf4ea11584",
   "metadata": {},
   "source": [
    "If we assume that our events obey a Poisson(5) process, you would expect to see zero counts no more than 0.67% of the time:"
   ]
  },
  {
   "cell_type": "code",
   "execution_count": 9,
   "id": "5f94be05-3522-4ba0-ac60-6b2198546264",
   "metadata": {},
   "outputs": [
    {
     "data": {
      "text/plain": [
       "<AxesSubplot:ylabel='Count'>"
      ]
     },
     "execution_count": 9,
     "metadata": {},
     "output_type": "execute_result"
    },
    {
     "data": {
      "image/png": "[encoded data removed]",
      "text/plain": [
       "<Figure size 432x288 with 1 Axes>"
      ]
     },
     "metadata": {
      "needs_background": "light"
     },
     "output_type": "display_data"
    }
   ],
   "source": [
    "s = np.random.poisson(5, 10000)\n",
    "sns.histplot(s)"
   ]
  },
  {
   "cell_type": "markdown",
   "id": "d2095e50-a466-4ff8-898d-94f3adec2b8c",
   "metadata": {},
   "source": [
    "As a result, if you use a standard Poisson or Binomial or NB regression model on such data sets, it can fit badly and will generate poor quality predictions, no matter how much you tweak its parameters"
   ]
  },
  {
   "cell_type": "markdown",
   "id": "df814751-d12f-4869-b66f-4a587bd3985a",
   "metadata": {
    "id": "fdede097-3c9d-4674-aabe-a317649c3090"
   },
   "source": [
    "<br>"
   ]
  },
  {
   "cell_type": "markdown",
   "id": "fa8c0a21-1bd9-42c3-9123-91b6c9e541ad",
   "metadata": {
    "tags": []
   },
   "source": [
    "### The ZIP Model"
   ]
  },
  {
   "cell_type": "markdown",
   "id": "d53f8f14-b8df-4569-8e31-5ec3a71415b9",
   "metadata": {},
   "source": [
    "Fortunately, the ZIP model provides us with a modification of the standard counts model such as Poisson or Negative Binomial to account for the presence of the extra zeroes. Another technique, called the Hurdle Model, has also been designed to deal with the excess zeroes, but here we will focus on ZIP."
   ]
  },
  {
   "cell_type": "markdown",
   "id": "f91d2a74-45b4-4d40-9d11-aaf4f8bee408",
   "metadata": {},
   "source": [
    "The intuition behind the ZIP model is that there is a second underlying process that is determining whether a count is zero or non-zero. Once a count is determined to be non-zero, the regular Poisson process takes over to determine its actual non-zero value based on the Poisson process’s PMF. The PMF of the ZIP model is as follows:\n",
    "$$\n",
    "P(y_i)\\left\\{\\begin{matrix}\n",
    "y_i = 1,2,3... & \\phi_i + (1-\\phi_i)*e^{-\\lambda}\\\\ \n",
    "y_i = 0 & (1-\\phi_i)\\frac{e^{-\\lambda}*\\lambda^k}{k!}\n",
    "\\end{matrix}\\right.\n",
    "$$"
   ]
  },
  {
   "cell_type": "markdown",
   "id": "244accc7-a252-463e-82d7-4b2834a728ac",
   "metadata": {},
   "source": [
    "The main difference between the ZIP model and the above mentioned Poisson process if the addition of the $\\phi$ parameter, which is a measure of the proportion of excess zeroes corresponding to the ith row in the dataset. Described differently, it can be considered a weight or penalty that increased the tendancy of the model to add structural zeroes to its posterior modeling of the distribution. Thus, a $\\phi$ value of zero results in the ZIP model reducing to a standard Poisson process and PMF."
   ]
  },
  {
   "cell_type": "markdown",
   "id": "c2f020f7-8b2b-474b-998a-5626666e4160",
   "metadata": {},
   "source": [
    "A crude way to calculate $\\phi$ would be to set it as the number of zero valued samples divided by the total number of samples. A better way to estimate $\\phi$ would be to estimate it as a function of our regressor variables/features. This is done by transforming the y variable (a continuous count) into a binary 0 or 1 variable. We then fit a logistic regression model on the binary y to produce fitted probabilities of an outcome whith or without an event. This vector of probabilities of a non-zero event is set as our $\\phi$ vector. We can then use Maximum Likelihood Estimation (MLE) to train the ZIP model."
   ]
  },
  {
   "cell_type": "markdown",
   "id": "7b63667f-822b-406d-bab8-2cf48009623f",
   "metadata": {
    "tags": []
   },
   "source": [
    "### Demo"
   ]
  },
  {
   "cell_type": "markdown",
   "id": "37d58333-c5d5-4e31-b3ad-fce63f8fc622",
   "metadata": {},
   "source": [
    "Thankfully, there are many python packages that automate the procedure of estimating $\\phi$ and using the estimated $\\phi$ to train the ZIP model using the MLE technique on your data set. Here we will use statsmodels, but there are other python implementations such as pymc3. Along with the statsmodels implementation, we will use daily retail sales data as our features."
   ]
  },
  {
   "cell_type": "code",
   "execution_count": 20,
   "id": "c81dfb31-f17f-4b1a-a5d3-739c7882fe8d",
   "metadata": {},
   "outputs": [],
   "source": [
    "import pickle\n",
    "import statsmodels.api as sm\n",
    "import pandas as pd\n",
    "from sklearn.model_selection import train_test_split\n",
    "from sklearn.metrics import accuracy_score, f1_score, mean_absolute_error, r2_score\n",
    "import xgboost as xgb\n",
    "import warnings\n",
    "warnings.filterwarnings('ignore')"
   ]
  },
  {
   "cell_type": "code",
   "execution_count": 13,
   "id": "76f69086-8e67-4c6a-bb79-6c9b12835cb7",
   "metadata": {},
   "outputs": [],
   "source": [
    "with open(weekly_sales, 'rb') as f:\n",
    "    frames = pickle.load(f)"
   ]
  },
  {
   "cell_type": "code",
   "execution_count": 14,
   "id": "a3b4dd27-45d7-4c05-957a-14cadf583499",
   "metadata": {},
   "outputs": [],
   "source": [
    "w1_df = pd.concat(frames)\n",
    "df = w1_df.sample(n=100000)"
   ]
  },
  {
   "cell_type": "markdown",
   "id": "38f70017-799a-4484-be9f-bd0781831e67",
   "metadata": {},
   "source": [
    "Below we can see that most of our entries for y are zero, but we also have considerable sales (count) data."
   ]
  },
  {
   "cell_type": "code",
   "execution_count": 36,
   "id": "82c486e5-3546-430a-93a3-d8a60038c907",
   "metadata": {},
   "outputs": [
    {
     "data": {
      "text/plain": [
       "<AxesSubplot:ylabel='Density'>"
      ]
     },
     "execution_count": 36,
     "metadata": {},
     "output_type": "execute_result"
    },
    {
     "data": {
      "image/png": "[encoded data removed]",
      "text/plain": [
       "<Figure size 432x288 with 1 Axes>"
      ]
     },
     "metadata": {
      "needs_background": "light"
     },
     "output_type": "display_data"
    }
   ],
   "source": [
    "sns.distplot(y, rug=True)"
   ]
  },
  {
   "cell_type": "code",
   "execution_count": 19,
   "id": "d9ba88a2-30cb-4cbe-907a-14ebff6ba1de",
   "metadata": {},
   "outputs": [],
   "source": [
    "X = df.drop(['part', 'sales_quantity'], axis=1)\n",
    "y = df['sales_quantity'].values\n",
    "\n",
    "X_train, X_test, y_train, y_test = train_test_split(X, y, test_size=0.25, random_state=42)"
   ]
  },
  {
   "cell_type": "code",
   "execution_count": 22,
   "id": "f149bae6-2344-422e-bfb7-1e902dad6a6c",
   "metadata": {},
   "outputs": [
    {
     "name": "stdout",
     "output_type": "stream",
     "text": [
      "Warning: Desired error not necessarily achieved due to precision loss.\n",
      "         Current function value: 7.028915\n",
      "         Iterations: 0\n",
      "         Function evaluations: 15\n",
      "         Gradient evaluations: 3\n"
     ]
    }
   ],
   "source": [
    "zip_training_results = sm.ZeroInflatedPoisson(endog=y_train,\n",
    "                                              exog=X_train,\n",
    "                                              exog_infl=X_train,\n",
    "                                              inflation='logit').fit()"
   ]
  },
  {
   "cell_type": "code",
   "execution_count": 23,
   "id": "89052859-7cc2-4510-a022-e508abf61b4c",
   "metadata": {},
   "outputs": [],
   "source": [
    "zip_predictions = zip_training_results.predict(X_test\n",
    "                                               ,exog_infl=X_test)"
   ]
  },
  {
   "cell_type": "code",
   "execution_count": 27,
   "id": "4ef05d7b-f32a-49f5-8343-84219eb7b010",
   "metadata": {},
   "outputs": [
    {
     "name": "stdout",
     "output_type": "stream",
     "text": [
      "Mean Absolute Error (MAE) for ZIP predictions: 0.29544\n"
     ]
    }
   ],
   "source": [
    "print(\"Mean Absolute Error (MAE) for ZIP predictions: {0}\".format(mean_absolute_error(y_test, zip_predictions)))"
   ]
  },
  {
   "cell_type": "code",
   "execution_count": 29,
   "id": "7b244895-3d7a-4846-9f90-ec4f51563f2e",
   "metadata": {},
   "outputs": [],
   "source": [
    "xgb_reg = xgb.XGBRegressor()\n",
    "xgb_reg.fit(X_train, y_train)\n",
    "xgb_predictions = xgb_reg.predict(X_test)"
   ]
  },
  {
   "cell_type": "code",
   "execution_count": 30,
   "id": "cc2b5cc4-2745-4a6c-9ca5-80ee00808ab5",
   "metadata": {},
   "outputs": [
    {
     "name": "stdout",
     "output_type": "stream",
     "text": [
      "Mean Absolute Error (MAE) for XGBoost predictions: 0.35163331031799316\n"
     ]
    }
   ],
   "source": [
    "print(\"Mean Absolute Error (MAE) for XGBoost predictions: {0}\".format(mean_absolute_error(y_test, xgb_predictions)))"
   ]
  },
  {
   "cell_type": "markdown",
   "id": "a48cb671-b9bb-43b2-a3f4-460f9485a35b",
   "metadata": {},
   "source": [
    "Thus the ZIP model performs significantly better than a gradient boosting algorithm for our case. "
   ]
  }
 ],
 "metadata": {
  "kernelspec": {
   "display_name": "Python 3 (ipykernel)",
   "language": "python",
   "name": "python3"
  },
  "language_info": {
   "codemirror_mode": {
    "name": "ipython",
    "version": 3
   },
   "file_extension": ".py",
   "mimetype": "text/x-python",
   "name": "python",
   "nbconvert_exporter": "python",
   "pygments_lexer": "ipython3",
   "version": "3.9.7"
  }
 },
 "nbformat": 4,
 "nbformat_minor": 5
}
