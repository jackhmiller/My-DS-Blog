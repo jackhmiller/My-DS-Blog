{
  "nbformat": 4,
  "nbformat_minor": 5,
  "metadata": {
    "kernelspec": {
      "display_name": "Python 3",
      "language": "python",
      "name": "python3"
    },
    "language_info": {
      "codemirror_mode": {
        "name": "ipython",
        "version": 3
      },
      "file_extension": ".py",
      "mimetype": "text/x-python",
      "name": "python",
      "nbconvert_exporter": "python",
      "pygments_lexer": "ipython3",
      "version": "3.8.8"
    },
    "colab": {
      "name": "2018-04-02-FLR.ipynb",
      "provenance": []
    }
  },
  "cells": [
    {
      "cell_type": "markdown",
      "metadata": {
        "id": "e681f882-21b4-4857-acbd-6ad1c416a959"
      },
      "source": [
        "# Functional Linear Regression\n",
        "> \"Linear regression augmented through interpolation and regularization techniques.\"\n",
        "- toc: false\n",
        "- branch: master\n",
        "- badges: true\n",
        "- comments: true\n",
        "- image: images/FDA.png\n",
        "- hide: false\n",
        "- search_exclude: false"
      ],
      "id": "e681f882-21b4-4857-acbd-6ad1c416a959"
    },
    {
      "cell_type": "markdown",
      "metadata": {
        "id": "7691b3a4-c66f-4b6a-918f-1bc369974a5b"
      },
      "source": [
        "Covariance estimation is a problem of great interest in many different disciplines, including machine learning, signal processing, economics and bioinformatics. In many applications the number of variables is very large, e.g., in the tens or hundreds of thousands, leading to a number of covariance parameters that greatly exceeds the number of observations. To address this problem constraints are frequently imposed on the covariance to reduce the number of parameters in the model. For example, the Glasso model of Yuan and Lin and Banerjee et al [<sup>1</sup>](#fn1) imposes sparsity constraints on the covariance. The Kronecker product model of Dutilleul and Werner et al [<sup>2</sup>](#fn2) assumes that the covariance can be represented as the Kronecker product of two lower dimensional covariance matrices. Here we will implement a combination of these two aproaches. "
      ],
      "id": "7691b3a4-c66f-4b6a-918f-1bc369974a5b"
    },
    {
      "cell_type": "markdown",
      "metadata": {
        "id": "01dbd2c8-0cb9-4dee-bd7a-29d88e24ed44"
      },
      "source": [
        "Here is our problem setting:"
      ],
      "id": "01dbd2c8-0cb9-4dee-bd7a-29d88e24ed44"
    },
    {
      "cell_type": "markdown",
      "metadata": {
        "id": "ca9f0563-53ef-46d9-84e8-b6a936266328"
      },
      "source": [
        "A combustion engine produces gas with polluting substances such as nitrogen oxides (NOx).Gas emission control regulations have been set up to protect the environment. The NOx Storage Catalyst (NSC) is an emission control system by which the exhaust gas is treated after the combustion process in two phases: adsorption and regeneration. During the regeneration phase, the engine control unit is programmed to maintain the combustion process in a rich air-to-fuel status. The average relative air/fuel ratio is the indicator of a correct regeneration phase. Our goal is to predict this value, using the information from eleven sensors. To do so, we are going to use group lasso regression."
      ],
      "id": "ca9f0563-53ef-46d9-84e8-b6a936266328"
    },
    {
      "cell_type": "markdown",
      "metadata": {
        "id": "cf12ec35-5fa1-4c03-8e2b-a079c9347995"
      },
      "source": [
        "List of on-board sensorsair aspirated per cylinder\n",
        "- engine rotational speed\n",
        "- total quantity of fuel injected\n",
        "- low presure EGR valve\n",
        "- inner torque\n",
        "- accelerator pedal position\n",
        "- aperture ratio of inlet valve\n",
        "- downstreem intercooler preasure\n",
        "- fuel in the 2nd pre-injection\n",
        "- vehicle velocity"
      ],
      "id": "cf12ec35-5fa1-4c03-8e2b-a079c9347995"
    },
    {
      "cell_type": "markdown",
      "metadata": {
        "id": "eb70be8c-32b7-4776-97fe-227b1cd02fd6"
      },
      "source": [
        "First we will write the problem that we want to solve in mathematical notation."
      ],
      "id": "eb70be8c-32b7-4776-97fe-227b1cd02fd6"
    },
    {
      "cell_type": "markdown",
      "metadata": {
        "id": "7bf6764b-b636-4e9a-9538-0c2e702d93f7"
      },
      "source": [
        "$$ \\underset{\\beta_g \\in \\mathbb{R}}{armin} \\ \\left \\|  \\sum_{g \\in G}\\left [ X_g\\beta_g \\right ]-y\\right \\|_2^2 + \\lambda_1\\left | \\beta \\right |_1 + \\lambda_2\\sum_{g \\in G}\\sqrt[]{d_g}\\left \\| \\beta_g \\right \\|_2 $$\n",
        "Where\n",
        "$$ $$\n",
        "$ X_g \\in \\mathbb{R}^{n x d_g}$ is the data matrix for each sensor's covariates which compose group $g$,\n",
        "$ \\beta_g $ is the B spline coefficients for group $g$,\n",
        "$ y \\in \\mathbb{R}^{n}$ is the air/fuel ratio target,\n",
        "$ n$ is the number of measurements,\n",
        "$d_g$ is the dimensionality of group $g$,\n",
        "$\\lambda_1 $ is the parameter-wise regularization penalty,\n",
        "$\\lambda_2$ is the group-wise regularization penalty,\n",
        "$ G $ is the set of all groups for all sensors"
      ],
      "id": "7bf6764b-b636-4e9a-9538-0c2e702d93f7"
    },
    {
      "cell_type": "markdown",
      "metadata": {
        "id": "d8ad63fe-7335-4361-953f-145246a49735"
      },
      "source": [
        "Now on to the code. We will use group lasso to learn the B-spline coefficients. We will use B-splines with 8 knots to reduce the dimensionality of the problem. Ultimately, we want to determine which sensors are correlated with the air/fuel ratio? Also, we want to predict the air/fuel ratio for the observations in the test dataset."
      ],
      "id": "d8ad63fe-7335-4361-953f-145246a49735"
    },
    {
      "cell_type": "code",
      "metadata": {
        "id": "2bd37c70-a33a-4515-ab7c-77885316c8f5"
      },
      "source": [
        "from scipy import interpolate\n",
        "import group_lasso\n",
        "import sklearn.linear_model as lm\n",
        "from sklearn.model_selection import GridSearchCV, RandomizedSearchCV"
      ],
      "id": "2bd37c70-a33a-4515-ab7c-77885316c8f5",
      "execution_count": null,
      "outputs": []
    },
    {
      "cell_type": "code",
      "metadata": {
        "id": "905cb3dc-c58b-4879-9491-a5921b1aebd5"
      },
      "source": [
        "x_train = loadmat('NSC.mat')['x']\n",
        "y_train = loadmat('NSC.mat')['y']\n",
        "x_test = loadmat('NSC.test.mat')['x_test']\n",
        "y_test = loadmat('NSC.test.mat')['y_test']"
      ],
      "id": "905cb3dc-c58b-4879-9491-a5921b1aebd5",
      "execution_count": null,
      "outputs": []
    },
    {
      "cell_type": "code",
      "metadata": {
        "id": "b4445abf-72e3-4f93-ad92-cd37090e1e40"
      },
      "source": [
        "for i in range(len(x_train[0])):\n",
        "    plt.figure(figsize=(15,8))\n",
        "    pd.DataFrame(x_train[0][i]).plot(legend=False, title=f\"Sensor {i}\")"
      ],
      "id": "b4445abf-72e3-4f93-ad92-cd37090e1e40",
      "execution_count": null,
      "outputs": []
    },
    {
      "cell_type": "code",
      "metadata": {
        "id": "592e3ce1-e60b-4d24-a5ac-349a43425f8e"
      },
      "source": [
        "def transformation(data):\n",
        "    coefficients = []\n",
        "    x = np.linspace(0, 203, 203)\n",
        "    knots = np.linspace(0, 203, 10) [1:-1]\n",
        "    for i,d in enumerate(data):\n",
        "        t, c, k = interpolate.splrep(x, d, task=-1, t=knots, k=2)\n",
        "        coefficients.append(np.trim_zeros(c, trim='b')[:-1])\n",
        "    return np.array(coefficients)\n",
        "\n",
        "def standardize(data):\n",
        "    results = []\n",
        "    for i in data:\n",
        "        temp = scaler.fit_transform(i)\n",
        "        results.append(temp)\n",
        "    return results"
      ],
      "id": "592e3ce1-e60b-4d24-a5ac-349a43425f8e",
      "execution_count": null,
      "outputs": []
    },
    {
      "cell_type": "code",
      "metadata": {
        "id": "070a82fb-3589-4bf4-b843-cbf124211956"
      },
      "source": [
        "scaler = StandardScaler()\n",
        "Y_train = transformation(scaler.fit_transform(y_train)).ravel()\n",
        "Y_test = transformation(scaler.fit_transform(y_test)).ravel()\n",
        "\n",
        "X_train = np.hstack(np.array([transformation(i) for i in standardize(x_train[0])]))\n",
        "X_test = np.hstack(np.array([transformation(i) for i in standardize(x_test[0])]))"
      ],
      "id": "070a82fb-3589-4bf4-b843-cbf124211956",
      "execution_count": null,
      "outputs": []
    },
    {
      "cell_type": "code",
      "metadata": {
        "id": "5eb5ebd4-4995-4b32-8e49-2fed7a731e0e"
      },
      "source": [
        "identity = np.identity(10)"
      ],
      "id": "5eb5ebd4-4995-4b32-8e49-2fed7a731e0e",
      "execution_count": null,
      "outputs": []
    },
    {
      "cell_type": "markdown",
      "metadata": {
        "id": "23c2c76f-6786-449c-8c0b-99ca4893a7f1"
      },
      "source": [
        "Kronecker Products"
      ],
      "id": "23c2c76f-6786-449c-8c0b-99ca4893a7f1"
    },
    {
      "cell_type": "code",
      "metadata": {
        "id": "b77b2cbe-caab-4e35-9a22-ba2cf853b571"
      },
      "source": [
        "final_train = np.kron(X_train, identity)\n",
        "final_test = np.kron(X_test, identity)"
      ],
      "id": "b77b2cbe-caab-4e35-9a22-ba2cf853b571",
      "execution_count": null,
      "outputs": []
    },
    {
      "cell_type": "code",
      "metadata": {
        "id": "f4827ae2-6cf5-42ac-9b2d-9bf83e6ec0eb"
      },
      "source": [
        "g = [[i]*100 for i in range(1,11)]\n",
        "groups = np.array([item for sublist in g for item in sublist])"
      ],
      "id": "f4827ae2-6cf5-42ac-9b2d-9bf83e6ec0eb",
      "execution_count": null,
      "outputs": []
    },
    {
      "cell_type": "code",
      "metadata": {
        "id": "7d04e032-ff0e-46cb-8834-ccf47fa45cf5"
      },
      "source": [
        "gl = group_lasso.GroupLasso(\n",
        "    groups=groups,\n",
        "    group_reg=0,\n",
        "    l1_reg=0,\n",
        "    fit_intercept=True,\n",
        "    scale_reg=\"none\",\n",
        "    supress_warning=True,\n",
        "    tol=1e-5\n",
        "    )"
      ],
      "id": "7d04e032-ff0e-46cb-8834-ccf47fa45cf5",
      "execution_count": null,
      "outputs": []
    },
    {
      "cell_type": "code",
      "metadata": {
        "id": "01bc4daa-b998-4ee2-adf0-32d409eed86a"
      },
      "source": [
        "lambdas, _, _ = lm.lasso_path(final_train, Y_train)"
      ],
      "id": "01bc4daa-b998-4ee2-adf0-32d409eed86a",
      "execution_count": null,
      "outputs": []
    },
    {
      "cell_type": "code",
      "metadata": {
        "id": "d2fed3e1-f243-4d4b-94d3-4c9649c9d740"
      },
      "source": [
        "CV = RandomizedSearchCV(estimator=gl, param_distributions={'group_reg': lambdas[::5]}, scoring='neg_mean_squared_error', n_iter=100, verbose=2)\n",
        "CV.fit(final_train, Y_train)"
      ],
      "id": "d2fed3e1-f243-4d4b-94d3-4c9649c9d740",
      "execution_count": null,
      "outputs": []
    },
    {
      "cell_type": "code",
      "metadata": {
        "id": "e5ee581b-24e0-4e25-b322-4d9a927cd036"
      },
      "source": [
        "coef = gl.coef_.ravel().reshape(100, 10)\n",
        "coef_base = X_train@coef\n",
        "coef_df = pd.DataFrame(coef_base)"
      ],
      "id": "e5ee581b-24e0-4e25-b322-4d9a927cd036",
      "execution_count": null,
      "outputs": []
    },
    {
      "cell_type": "code",
      "metadata": {
        "id": "1e91d4c2-9602-4123-af00-9fcc07df4ff3"
      },
      "source": [
        "print(\"Best lambda:\", CV.best_params_['group_reg'])"
      ],
      "id": "1e91d4c2-9602-4123-af00-9fcc07df4ff3",
      "execution_count": null,
      "outputs": []
    },
    {
      "cell_type": "code",
      "metadata": {
        "id": "59eebc04-9b8b-4700-aeed-284838ac1e61"
      },
      "source": [
        "print(\"Coefficients Correlated to Target\")\n",
        "coef_df.corrwith(pd.DataFrame(Y_train.reshape(150,10)))"
      ],
      "id": "59eebc04-9b8b-4700-aeed-284838ac1e61",
      "execution_count": null,
      "outputs": []
    },
    {
      "cell_type": "markdown",
      "metadata": {
        "id": "e3e53fd9-f364-4fa0-b82c-cd1a7de7d475"
      },
      "source": [
        "It appears sensors 2 and 7 have the greatest correlation to the air fuel ration"
      ],
      "id": "e3e53fd9-f364-4fa0-b82c-cd1a7de7d475"
    },
    {
      "cell_type": "code",
      "metadata": {
        "id": "2ffe019c-540e-495f-b7cc-f2d2f431f708"
      },
      "source": [
        "_y = pd.DataFrame(Y_train.reshape(150,10))\n",
        "for sensor in [2, 7]:\n",
        "    plt.figure(figsize=(15,8))\n",
        "    plt.scatter(coef_df[sensor], _y[sensor])\n",
        "    plt.title(f\"Correlation of sensor {sensor} and air/fuel ratio\")\n",
        "    plt.xlabel(f\"Sensor {sensor}\")\n",
        "    plt.ylabel(\"Air/fuel ratio\")"
      ],
      "id": "2ffe019c-540e-495f-b7cc-f2d2f431f708",
      "execution_count": null,
      "outputs": []
    },
    {
      "cell_type": "code",
      "metadata": {
        "id": "f5cbd42b-0bcc-4225-b81a-c03a89e26624"
      },
      "source": [
        "coef_df[2].plot(title='Coefficients for sensor 2')"
      ],
      "id": "f5cbd42b-0bcc-4225-b81a-c03a89e26624",
      "execution_count": null,
      "outputs": []
    },
    {
      "cell_type": "code",
      "metadata": {
        "id": "c25c09e1-12ea-4fbc-8d39-c389644bfdc2"
      },
      "source": [
        "coef_df[7].plot(title='Coefficients for sensor 7')"
      ],
      "id": "c25c09e1-12ea-4fbc-8d39-c389644bfdc2",
      "execution_count": null,
      "outputs": []
    },
    {
      "cell_type": "code",
      "metadata": {
        "id": "5927b90e-f049-44b2-9c56-33e223e5f984"
      },
      "source": [
        "predicted = CV.predict(final_test)"
      ],
      "id": "5927b90e-f049-44b2-9c56-33e223e5f984",
      "execution_count": null,
      "outputs": []
    },
    {
      "cell_type": "code",
      "metadata": {
        "id": "dea2823d-9abe-4442-a9ca-9f074adf8990"
      },
      "source": [
        "print(\"Mean Square Prediction Error:\", sum((Y_test - predicted)**2))"
      ],
      "id": "dea2823d-9abe-4442-a9ca-9f074adf8990",
      "execution_count": null,
      "outputs": []
    },
    {
      "cell_type": "markdown",
      "metadata": {
        "id": "90d4d041-c94a-4a59-bc56-ea01a22b5cd9"
      },
      "source": [
        "________________"
      ],
      "id": "90d4d041-c94a-4a59-bc56-ea01a22b5cd9"
    },
    {
      "cell_type": "markdown",
      "metadata": {
        "id": "36d4cd18-1527-412e-ba43-1c424bb8c28d"
      },
      "source": [
        "<span id=\"fn1\"> Yuan et al. \"Model Selection and Estimation in Regression With Grouped Variables,\" Journal of the Royal Statistical Society Series B. (2006): 49-67.</span>"
      ],
      "id": "36d4cd18-1527-412e-ba43-1c424bb8c28d"
    },
    {
      "cell_type": "markdown",
      "metadata": {
        "id": "7c4a6ec6-6783-44b9-a836-81ee6f69ba4a"
      },
      "source": [
        "<span id=\"fn2\"> Tsiligkaridis et al. \"Convergence Properties of Kronecker Graphical Lasso Algorithms,\" IEEE (2013).</span>"
      ],
      "id": "7c4a6ec6-6783-44b9-a836-81ee6f69ba4a"
    }
  ]
}