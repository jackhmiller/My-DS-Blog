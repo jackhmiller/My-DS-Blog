{
  "nbformat": 4,
  "nbformat_minor": 5,
  "metadata": {
    "kernelspec": {
      "display_name": "Python 3",
      "language": "python",
      "name": "python3"
    },
    "language_info": {
      "codemirror_mode": {
        "name": "ipython",
        "version": 3
      },
      "file_extension": ".py",
      "mimetype": "text/x-python",
      "name": "python",
      "nbconvert_exporter": "python",
      "pygments_lexer": "ipython3",
      "version": "3.8.8"
    },
    "colab": {
      "name": "2018-03-17-Sparse.ipynb",
      "provenance": []
    }
  },
  "cells": [
    {
      "cell_type": "markdown",
      "metadata": {
        "id": "d1a167fe-3ce7-40ea-9e72-1f4ef39ffd09"
      },
      "source": [
        "# Sparse Linear Regression\n",
        "> \"A comparison of sparsity inducing regularization techniques for regression problems \"\n",
        "- toc: false\n",
        "- branch: master\n",
        "- badges: true\n",
        "- comments: true\n",
        "- image: images/Sparse.png\n",
        "- hide: false\n",
        "- search_exclude: false"
      ],
      "id": "d1a167fe-3ce7-40ea-9e72-1f4ef39ffd09"
    },
    {
      "cell_type": "markdown",
      "metadata": {
        "id": "e3dd3a89-09f0-4cd6-93a6-17d721384b8d"
      },
      "source": [
        "![](images/Sparse.png)"
      ],
      "id": "e3dd3a89-09f0-4cd6-93a6-17d721384b8d"
    },
    {
      "cell_type": "markdown",
      "metadata": {
        "id": "5c5dd155-76c1-4f47-b48d-fca70201ebb5"
      },
      "source": [
        "There are two fundamental goals in statistical learning: ensuring high prediction accuracy and discovering relevant predictive variables. Variable selection is particularly important when the true underlying model has a sparse representation. It may be important to clarify that the expression 'sparse' should not be confused with techniques for sparse data, containing many zero entries. Here, sparsity refers to the estimated parameter vector, which is forced to contain many zeros. A sparse representation can be manifested as a result of two common occurances. First, the number of predictors  might exceed the number of observations. Such high-dimensional data settings are nowadays commonplace in operational research. Second, some data points might behave differently from the majority of the data. Such atypical data points are called outliers in statistics, and anomalies in machine learning. Traditional methods for linear regression analysis such as the ordinary Least Squares estimator (OLS) fail when these problems arise: the OLS cannot be computed or becomes unreliable due to the presence of outliers."
      ],
      "id": "5c5dd155-76c1-4f47-b48d-fca70201ebb5"
    },
    {
      "cell_type": "markdown",
      "metadata": {
        "id": "ec600bee-94b8-4ffc-8c75-b417fd7aabfc"
      },
      "source": [
        "A regression vector is sparse if only some of its components are nonzero while the rest is set equal to zero, hereby inducing variable selection. "
      ],
      "id": "ec600bee-94b8-4ffc-8c75-b417fd7aabfc"
    },
    {
      "cell_type": "markdown",
      "metadata": {
        "id": "fdede097-3c9d-4674-aabe-a317649c3090"
      },
      "source": [
        "<br>"
      ],
      "id": "fdede097-3c9d-4674-aabe-a317649c3090"
    },
    {
      "cell_type": "markdown",
      "metadata": {
        "id": "5bb871b2-0cc4-408f-b9a3-5726cb652188"
      },
      "source": [
        "Here we want to compare some different regression techniques that induce feature or input sparsity: Lasso Regression, Ridge Regression, Adaptive Lasso Regression, and Elastic Net Regression. We will calculate the optimal tuning parameters, and fit the model to aquire the coefficients obtained with the optimal parameters as well as the Mean Square Prediction Error for the test dataset."
      ],
      "id": "5bb871b2-0cc4-408f-b9a3-5726cb652188"
    },
    {
      "cell_type": "markdown",
      "metadata": {
        "id": "6f74e8db-6c77-4d6e-8327-414ba674f57a"
      },
      "source": [
        "In this demonstration our goal is to predict the concentration of carbon oxide (CO) in mg/m^3. For this purpose, we have the following information provided by air quality sensors:\n",
        "- Benzene (C6H6) concentration in μg/m3\n",
        "- Non Metanic HydroCarbons (NMHC) concentration in μg/m3\n",
        "- Nitrogen Oxides (NOx)concentration in ppb\n",
        "- Nitrogen Dioxide (NO2) concentration in μg/m3\n",
        "- Ozone (O3) concentration in μg/m3\n",
        "- Temperature (T) in Celsius degrees\n",
        "- Relative Humidity (RH)\n",
        "- Absolute Humidity (AH)"
      ],
      "id": "6f74e8db-6c77-4d6e-8327-414ba674f57a"
    },
    {
      "cell_type": "code",
      "metadata": {
        "tags": [],
        "id": "6b077256-b378-4353-a6f5-0169f1120a85"
      },
      "source": [
        "from sklearn.model_selection import RandomizedSearchCV, GridSearchCV\n",
        "from scipy.stats import uniform \n",
        "from sklearn.linear_model import Ridge, Lasso, ElasticNet, LinearRegression, lasso_path, LassoCV\n",
        "from sklearn.metrics import mean_squared_error\n",
        "from sklearn.preprocessing import StandardScaler\n",
        "from numpy import arange"
      ],
      "id": "6b077256-b378-4353-a6f5-0169f1120a85",
      "execution_count": null,
      "outputs": []
    },
    {
      "cell_type": "code",
      "metadata": {
        "id": "7d50bcf9-a6d7-41d6-b181-dc43fcc281c3"
      },
      "source": [
        "scaler = StandardScaler()"
      ],
      "id": "7d50bcf9-a6d7-41d6-b181-dc43fcc281c3",
      "execution_count": null,
      "outputs": []
    },
    {
      "cell_type": "code",
      "metadata": {
        "id": "1224349e-c2b4-4799-bc07-0bbb2799228b"
      },
      "source": [
        "train_data = pd.read_csv('train.air.csv')\n",
        "test_data = pd.read_csv('test.air.csv')"
      ],
      "id": "1224349e-c2b4-4799-bc07-0bbb2799228b",
      "execution_count": null,
      "outputs": []
    },
    {
      "cell_type": "code",
      "metadata": {
        "id": "9e51d3ae-9f72-4064-aadb-a938419f749d"
      },
      "source": [
        "standardized_train = scaler.fit_transform(train_data)\n",
        "standardized_test = scaler.fit_transform(test_data)"
      ],
      "id": "9e51d3ae-9f72-4064-aadb-a938419f749d",
      "execution_count": null,
      "outputs": []
    },
    {
      "cell_type": "code",
      "metadata": {
        "id": "8ce1be54-78b1-4c62-8431-c89e5ffaa165"
      },
      "source": [
        "train = pd.DataFrame(standardized_train, columns=train.columns)\n",
        "test = pd.DataFrame(standardized_test, columns=test.columns)"
      ],
      "id": "8ce1be54-78b1-4c62-8431-c89e5ffaa165",
      "execution_count": null,
      "outputs": []
    },
    {
      "cell_type": "code",
      "metadata": {
        "id": "b8fbb27f-168f-4c7b-9d2c-bac6abb35816"
      },
      "source": [
        "y_train = train['CO']\n",
        "x_train = train.drop('CO', axis=1)\n",
        "y_test = test['CO']\n",
        "x_test = test.drop('CO', axis=1)"
      ],
      "id": "b8fbb27f-168f-4c7b-9d2c-bac6abb35816",
      "execution_count": null,
      "outputs": []
    },
    {
      "cell_type": "markdown",
      "metadata": {
        "id": "cc33207f-5e10-4e2e-b895-1ba48ced5efd"
      },
      "source": [
        "__Ridge__ "
      ],
      "id": "cc33207f-5e10-4e2e-b895-1ba48ced5efd"
    },
    {
      "cell_type": "code",
      "metadata": {
        "id": "0d5fe24f-f2ea-4aec-ba48-f7f5244fbe58"
      },
      "source": [
        "param_grid = {'alpha': uniform()}\n",
        "\n",
        "model = Ridge()\n",
        "ridge_search = RandomizedSearchCV(estimator=model, \n",
        "                                 param_distributions=param_grid,\n",
        "                                 n_iter=100)\n",
        "\n",
        "ridge_search.fit(x_train, y_train)\n",
        "\n",
        "print(\"Optimal lasso penality parameter:\", round(ridge_search.best_estimator_.alpha, 3))\n",
        "print(\"Best parameter score:\", round(ridge_search.best_score_, 3))"
      ],
      "id": "0d5fe24f-f2ea-4aec-ba48-f7f5244fbe58",
      "execution_count": null,
      "outputs": []
    },
    {
      "cell_type": "code",
      "metadata": {
        "id": "af690fe0-b418-441d-9e59-c11ee9737335"
      },
      "source": [
        "print(\"Coefficients:\", ridge_search.best_estimator_.coef_)"
      ],
      "id": "af690fe0-b418-441d-9e59-c11ee9737335",
      "execution_count": null,
      "outputs": []
    },
    {
      "cell_type": "code",
      "metadata": {
        "id": "7f6bba9d-14cb-43f9-bb6a-8a8e19766a2f"
      },
      "source": [
        "ridge_pred = ridge_search.predict(x_test)"
      ],
      "id": "7f6bba9d-14cb-43f9-bb6a-8a8e19766a2f",
      "execution_count": null,
      "outputs": []
    },
    {
      "cell_type": "code",
      "metadata": {
        "id": "a15bbfec-55b1-4997-88e4-8f06040eb4f5"
      },
      "source": [
        "print(\"Ridge MSE for test data:\", round(mean_squared_error(y_test, ridge_pred),2))"
      ],
      "id": "a15bbfec-55b1-4997-88e4-8f06040eb4f5",
      "execution_count": null,
      "outputs": []
    },
    {
      "cell_type": "markdown",
      "metadata": {
        "id": "559991b8-4162-4d7b-bafd-697ad0098026"
      },
      "source": [
        "__Lasso__"
      ],
      "id": "559991b8-4162-4d7b-bafd-697ad0098026"
    },
    {
      "cell_type": "code",
      "metadata": {
        "id": "a8d722fb-62de-4707-a96e-99c16c3bd025"
      },
      "source": [
        "param_grid = {'alpha': uniform()}\n",
        "\n",
        "model = Lasso()\n",
        "lasso_search = RandomizedSearchCV(estimator=model, \n",
        "                                 param_distributions=param_grid,\n",
        "                                 n_iter=100)\n",
        "\n",
        "lasso_search.fit(x_train, y_train)\n",
        "\n",
        "print(\"Optimal lasso penality parameter:\", round(lasso_search.best_estimator_.alpha, 3))\n",
        "print(\"Best parameter score:\", round(lasso_search.best_score_, 3))"
      ],
      "id": "a8d722fb-62de-4707-a96e-99c16c3bd025",
      "execution_count": null,
      "outputs": []
    },
    {
      "cell_type": "code",
      "metadata": {
        "id": "9b87987e-9133-4f9d-8f47-ae39ff08bc92"
      },
      "source": [
        "print(\"Coefficients:\", lasso_search.best_estimator_.coef_)"
      ],
      "id": "9b87987e-9133-4f9d-8f47-ae39ff08bc92",
      "execution_count": null,
      "outputs": []
    },
    {
      "cell_type": "code",
      "metadata": {
        "id": "bdffd39f-b06e-484e-9c45-44c14a1e10c5"
      },
      "source": [
        "lasso_pred = lasso_search.predict(x_test)"
      ],
      "id": "bdffd39f-b06e-484e-9c45-44c14a1e10c5",
      "execution_count": null,
      "outputs": []
    },
    {
      "cell_type": "code",
      "metadata": {
        "id": "82577e40-9058-4ea0-8418-5b65a1c4a848"
      },
      "source": [
        "print(\"Lasso MSE for test data:\", round(mean_squared_error(y_test, lasso_pred), 2))"
      ],
      "id": "82577e40-9058-4ea0-8418-5b65a1c4a848",
      "execution_count": null,
      "outputs": []
    },
    {
      "cell_type": "markdown",
      "metadata": {
        "id": "434b15dc-1757-45b6-bfd3-cb5bd5757874"
      },
      "source": [
        "__Adaptive Lasso__"
      ],
      "id": "434b15dc-1757-45b6-bfd3-cb5bd5757874"
    },
    {
      "cell_type": "code",
      "metadata": {
        "id": "3da9bf3d-320c-43ab-b8de-b7c85a69e05d"
      },
      "source": [
        "coefficients = LinearRegression(fit_intercept=False).fit(x_train, y_train).coef_\n",
        "gamma = 2\n",
        "weights = coefficients**-gamma\n",
        "X = x_train/weights\n",
        "lambdas, lasso_betas, _ = lasso_path(X, y_train)\n",
        "lassoCV = LassoCV(alphas=lambdas, fit_intercept=False, cv=10)\n",
        "lassoCV.fit(X, y_train)"
      ],
      "id": "3da9bf3d-320c-43ab-b8de-b7c85a69e05d",
      "execution_count": null,
      "outputs": []
    },
    {
      "cell_type": "code",
      "metadata": {
        "id": "01e1d130-61b7-4c23-ad9a-a7ad74dc44b6"
      },
      "source": [
        "print(\"Optimal adaptive lasso penality parameter:\", lassoCV.alpha_)"
      ],
      "id": "01e1d130-61b7-4c23-ad9a-a7ad74dc44b6",
      "execution_count": null,
      "outputs": []
    },
    {
      "cell_type": "code",
      "metadata": {
        "id": "d4269692-bb46-4bfc-a135-5c672c1733bf"
      },
      "source": [
        "print(\"Coefficients:\", lassoCV.coef_)"
      ],
      "id": "d4269692-bb46-4bfc-a135-5c672c1733bf",
      "execution_count": null,
      "outputs": []
    },
    {
      "cell_type": "code",
      "metadata": {
        "id": "93dab9af-bbe6-4426-ae9c-10a529e42368"
      },
      "source": [
        "adaptive_pred = lassoCV.predict(x_test/weights)"
      ],
      "id": "93dab9af-bbe6-4426-ae9c-10a529e42368",
      "execution_count": null,
      "outputs": []
    },
    {
      "cell_type": "code",
      "metadata": {
        "id": "afe80d42-b5e1-4dc9-8ccd-212e4bfee5db"
      },
      "source": [
        "print(\"Adaptive Lasso MSE for test data:\", round(mean_squared_error(y_test, adaptive_pred), 2))"
      ],
      "id": "afe80d42-b5e1-4dc9-8ccd-212e4bfee5db",
      "execution_count": null,
      "outputs": []
    },
    {
      "cell_type": "markdown",
      "metadata": {
        "id": "d59e3670-8292-4416-90fc-999008a71b12"
      },
      "source": [
        "__Elastic Net__"
      ],
      "id": "d59e3670-8292-4416-90fc-999008a71b12"
    },
    {
      "cell_type": "code",
      "metadata": {
        "id": "d02fe536-06f7-4cc9-8b9a-3357739d48c8"
      },
      "source": [
        "param_grid = {'alpha': uniform(), 'l1_ratio': arange(0, 1, 0.01)}\n",
        "\n",
        "model = ElasticNet()\n",
        "EN_search = RandomizedSearchCV(estimator=model, \n",
        "                                 param_distributions=param_grid,\n",
        "                                 n_iter=100)\n",
        "\n",
        "EN_search.fit(x_train, y_train)\n",
        "\n",
        "print(\"Optimal parameters:\", EN_search.best_params_)\n",
        "print(\"Best parameter score:\", round(EN_search.best_score_, 3))"
      ],
      "id": "d02fe536-06f7-4cc9-8b9a-3357739d48c8",
      "execution_count": null,
      "outputs": []
    },
    {
      "cell_type": "code",
      "metadata": {
        "id": "0f7ccff0-77cc-4dc1-b885-8aa5ef622bca"
      },
      "source": [
        "print(\"Coefficients:\", EN_search.best_estimator_.coef_)"
      ],
      "id": "0f7ccff0-77cc-4dc1-b885-8aa5ef622bca",
      "execution_count": null,
      "outputs": []
    },
    {
      "cell_type": "code",
      "metadata": {
        "id": "674bc766-f482-46f9-aaa0-9fe32f7c6bc3"
      },
      "source": [
        "EN_pred = EN_search.predict(x_test)"
      ],
      "id": "674bc766-f482-46f9-aaa0-9fe32f7c6bc3",
      "execution_count": null,
      "outputs": []
    },
    {
      "cell_type": "code",
      "metadata": {
        "id": "33820cbc-2461-4853-9384-5486a774566a"
      },
      "source": [
        "print(\"Elastic Net MSE for test data:\", round(mean_squared_error(y_test, EN_pred), 2))"
      ],
      "id": "33820cbc-2461-4853-9384-5486a774566a",
      "execution_count": null,
      "outputs": []
    },
    {
      "cell_type": "markdown",
      "metadata": {
        "id": "db2b8a4f-e876-4127-a279-51dd2ca1fe0a"
      },
      "source": [
        "### Conclusion\n",
        "Elastic net can be recommended without knowing the size of the dataset or the number of predictors, as it automatically handles data with various sparsity patterns as well as correlated groups of regressors. \n",
        "Lasso outperforms ridge for data with a small to moderate number of moderate-sized effects. In these cases, rdige will not provide a sparse model that is easy to interpret, which would lead one to use Lasso methods. On the other hand, Ridge regression performs the best with a large number of small effects.This is because the ridge penalty will prefer equal weighting of colinear variables while lasso penalty will not be able to choose. This is one reason ridge (or more generally, elastic net, which is a linear combination of lasso and ridge penalties) will work better with colinear predictors. If the data give little reason to choose between different linear combinations of colinear predictors, lasso will struggle to prioritize a predictor amongst colinears, while ridge tends to choose equal weighting. \n",
        "Given our dataset and number of predictors here, I would recommend Lasso. "
      ],
      "id": "db2b8a4f-e876-4127-a279-51dd2ca1fe0a"
    }
  ]
}
