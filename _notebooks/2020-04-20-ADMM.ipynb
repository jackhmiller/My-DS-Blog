{
 "cells": [
  {
   "cell_type": "markdown",
   "id": "0d38eb7c-6101-4432-a664-ce81674f938e",
   "metadata": {},
   "source": [
    "# Alternating Method of Multipliers- Theory and Industry Example Application"
   ]
  },
  {
   "cell_type": "markdown",
   "id": "526a2509-72ab-49c2-b888-b3879a15152c",
   "metadata": {},
   "source": [
    "In this blog post we will solve the following optimization problem using the scaled form of alternating direction\n",
    "method of multipliers (ADMM)."
   ]
  },
  {
   "cell_type": "markdown",
   "id": "864b32ce-125e-4080-90de-1f706441b976",
   "metadata": {},
   "source": [
    "$$ min \\frac{1}{2}\\left \\| Ax-b \\right \\|_{2}^{2} + \\lambda_1\\left \\| x \\right \\|_1 + \\frac{\\lambda_2}{2}\\left \\| x \\right \\|_{2}^{2}min \\frac{1}{2}\\left \\| Ax-b \\right \\|_{2}^{2} + \\lambda_1\\left \\| x \\right \\|_1 + \\frac{\\lambda_2}{2}\\left \\| x \\right \\|_{2}^{2}$$"
   ]
  },
  {
   "cell_type": "markdown",
   "id": "46baa054-1fe9-4867-80ea-ebc9d1d53473",
   "metadata": {},
   "source": [
    "#### Background on ADMM"
   ]
  },
  {
   "cell_type": "markdown",
   "id": "48c030e0-2386-47ba-9694-b6c3adc8cbcc",
   "metadata": {},
   "source": [
    "The alternating direction method of multipliers (ADMM) is an algorithm that solves convex optimization problems by breaking them into smaller pieces, each of which are then easier to handle. Namely, it is intended to blend the decomposability of dual ascent with the superior convergence properties of the method of multipliers. The original paper can be found here: https://stanford.edu/~boyd/papers/pdf/admm_distr_stats.pdf."
   ]
  },
  {
   "cell_type": "markdown",
   "id": "9480cc6c-5540-4fcf-b2eb-3089c9dd00bc",
   "metadata": {},
   "source": [
    "ADMM received lots of attention a few years ago due to the tremendous proliferation and subsequentdemand from large-scale and data-distributed machine learning applications. ADMM a fairly simple computational method for optimization proposed in 1970s. It stemmed from the augmented Lagrangian method (also known as the method of multipliers) dating back to late 1960s. The theoretical aspects of ADMM have been studied since the 1980s, and its global convergence was established in\n",
    "the literature (Gabay, 1983; Glowinski & Tallec, 1989;Eckstein & Bertsekas, 1992). As reviewed in the comprehensive paper (Boyd et al., 2010), with the ability of dealing with objective functions separately and synchronously , ADMM turned out to be a natural fit in the field of large-scale data-distributed machine learning and big-data related optimization, and therefore received significant amount of attention beginning in 2015. Considerable work was conducted thereafter.\n",
    "\n",
    "On the theoretical side, ADMM was shown to have an O(1/N) rate of convergence for convex problems."
   ]
  },
  {
   "cell_type": "markdown",
   "id": "5cfb7fa1-5a6f-4d67-a783-f35b3fd7d941",
   "metadata": {},
   "source": [
    "The algorithm solves the problem in the form:\n",
    "<br>\n",
    "&nbsp;&nbsp;&nbsp;&nbsp;&nbsp;&nbsp; minimize $f(x) + g(z)$\n",
    "<br>\n",
    "&nbsp;&nbsp;&nbsp;&nbsp;&nbsp;&nbsp; subject to $Ax+ Bz = c$\n",
    "\n",
    "with variables $x\\in R^n$ and $z\\in R^m$, where $A\\in R^{pxn}$, $B\\in R^{pxm}$ and $C\\in R^{p}$.\n",
    "\n",
    "The only difference from the general linear equality-constrained problem is that the variable x has been split into two parts, called x and z, with the objective function separable across this splitting. The optimal value of the problem is now denoted by:\n",
    "$$ p^* = inf\\left \\{ f(x) + g(x) | Ax + Bz = c \\right \\} $$\n",
    "Which forms the augmented Lagrangian:\n",
    "$$ L_p(x, z, y) = f(x) + g(z) + y^T(Ax+Bz-c) + \\frac{\\rho}{2}\\left \\| Ax + Bz -c \\right \\|_{2}^{2} $$"
   ]
  },
  {
   "cell_type": "markdown",
   "id": "117ae876-fe8a-4adf-aeb3-3a07ccfe4919",
   "metadata": {},
   "source": [
    "Finally, we have our ADMM which consists of the following iterations:\n",
    "$$ x^{k+1} = \\underset{x}{argmin} L_\\rho(x, z^k, y^k)$$\n",
    "$$ z^{k+1} = \\underset{x}{argmin} L_\\rho(x^{k+1}, z, y^k) $$\n",
    "$$ y^{k+1} = y^k + \\rho(Ax^{k+1} +Bz^{k+1}-c) $$\n",
    "$$s.t. \\rho>0$$"
   ]
  },
  {
   "cell_type": "markdown",
   "id": "f6251c32-db5f-4a7b-ab93-1f0da05c6f69",
   "metadata": {},
   "source": [
    "The algorithm is very similar to dual ascent and the method of multipliers: it consists of an x-minimization step, a z-minimization step, and a dual variable update. As in the\n",
    "method of multipliers, the dual variable update uses a step size equal to the augmented Lagrangian parameter. However, while with the method of multipliers the augmented Lagrangian is minimized jointly with respect to the two primal variables, in ADMM, on the other hand, x and z are updated in an alternating or sequential fashion, which accounts for the\n",
    "term alternating direction."
   ]
  },
  {
   "cell_type": "markdown",
   "id": "ddaf4004-35c9-4335-ad17-9b2e5dc374cf",
   "metadata": {},
   "source": [
    "Simple examples show that ADMM can be very slow to converge to high accuracy. However, it is often the case that ADMM converges to modest accuracy—sufficient for many applications—within a few tens of iterations. This behavior makes ADMM similar to algorithms likethe conjugate gradient method, for example, in that a few tens of iterations will often produce acceptable results of practical use. However, the slow convergence of ADMM also distinguishes it from algorithms such as Newton’s method (or, for constrained problems, interior-point methods), where high accuracy can be attained in a reasonable amount of time. While in some cases it is possible to combine ADMM with a method for producing a high accuracy solution from a low accuracy solution, in the general case ADMM will be practically useful mostly in cases when modest accuracy is sufficient. Fortunately, this is usually the case for large-scale industrial applications. Also, in the case of machine learning problems, solving a parameter estimation problem to very high accuracy often yields little to no improvement in actual prediction performance, the real metric of interest in applications."
   ]
  },
  {
   "cell_type": "markdown",
   "id": "574bcc5c-61e4-4e1e-957f-92c72c63ab14",
   "metadata": {},
   "source": [
    "#### Our Optimization Problem"
   ]
  },
  {
   "cell_type": "markdown",
   "id": "ca3f322e-2136-43e4-a258-cf2ee80b8ff4",
   "metadata": {},
   "source": [
    "First we will write the augmented Lagrangian function (the scaled form) and drive the ADMM updates."
   ]
  },
  {
   "cell_type": "markdown",
   "id": "9fa2b1cd-e167-4b0c-8cfb-56808ff232b6",
   "metadata": {},
   "source": [
    "Scaled form of the augmented Lagrangian"
   ]
  },
  {
   "cell_type": "markdown",
   "id": "9ed54c46-b428-4491-a260-428d8b748d58",
   "metadata": {},
   "source": [
    "$$ L(x, z, u:\\rho) = min\\frac{1}{2}\\left \\| Ax-b \\right \\|_{2}^{2} + \\lambda_{1}\\left \\| z \\right \\|_{1} + \\frac{\\lambda_{2}}{2}\\left \\| z \\right \\|_{2}^{2} + \\frac{\\rho}{2}\\left \\| x-z+ w \\right \\|_{2}^{2} + \\frac{\\rho}{2}\\left \\| w \\right \\|_{2}^{2} $$"
   ]
  },
  {
   "cell_type": "markdown",
   "id": "cc45d39d-bb41-4578-b233-b4a237686a9f",
   "metadata": {},
   "source": [
    "$$ x_{k} = \\underset{x}{argmin}\\frac{1}{2}\\left \\| Ax-b \\right \\|_{2}^{2} + \\frac{\\rho}{2}\\left \\| x-z_{k-1}+ w_{k-1} \\right \\|_{2}^{2}  $$"
   ]
  },
  {
   "cell_type": "markdown",
   "id": "4939ed65-f7c6-4044-998c-e998ea4dbbd6",
   "metadata": {},
   "source": [
    "$$ x_k = ((A^TA+\\rho I))^{-1}(\\rho(z_{k-1}-w_{k-1})+A^Tb) $$"
   ]
  },
  {
   "cell_type": "markdown",
   "id": "eefcbadf-fa17-49bc-8c31-5d5c5e90e27c",
   "metadata": {},
   "source": [
    "$$ z_{k} = \\underset{z}{argmin}  (\\lambda_{1}\\left \\| z \\right \\|_{1} + \\frac{\\lambda_{2}}{2}\\left \\| z \\right \\|_{2}^{2}) + \\frac{\\rho}{2}\\left \\| x_{k}-z+ w_{k-1} \\right \\|_{2}^{2} $$"
   ]
  },
  {
   "cell_type": "markdown",
   "id": "78ace623-0d6a-4382-98b5-00786f32afdb",
   "metadata": {},
   "source": [
    "if $z>0$ $$ z_{k} = \\frac{\\rho(w_{k-1}+x_{k})}{\\lambda_2-\\rho}-\\lambda_1$$"
   ]
  },
  {
   "cell_type": "markdown",
   "id": "ec57fe5f-c2f6-4de3-a870-35098917809f",
   "metadata": {},
   "source": [
    "if $z<0$ $$ z_{k} = \\frac{\\rho(w_{k-1}+x_{k})}{\\lambda_2-\\rho}+\\lambda_1$$"
   ]
  },
  {
   "cell_type": "markdown",
   "id": "bf17662e-36e1-4734-9820-c49e9afaf6fa",
   "metadata": {},
   "source": [
    "$$ w_{k} = w_{k-1} + x_k -z_k $$"
   ]
  },
  {
   "cell_type": "markdown",
   "id": "604c0b7f-b25e-4564-9e4b-90ea186eab34",
   "metadata": {},
   "source": [
    "#### Practical Application"
   ]
  },
  {
   "cell_type": "markdown",
   "id": "bc89c0f9-c12e-40b4-ad33-21d80f301802",
   "metadata": {},
   "source": [
    "Now, we will implement a regression algorithm using our augmented lagrangian. The dataset is the performance decay over time of a ship's Gas Turbine (GT) compressor. We split our test and train data 20:80.\n",
    "The range of decay of compressor has been sampled with a uniform grid of precision 0.001 so to have a good granularity of representation. For the compressor decay state discretization the kMc coefficient has been investigated in the domain [0.95,1]. Ship speed has been investigated sampling the range of feasible speed from 3 knots to 27 knots with a granularity of representation equal to tree knots. A series of measures (13 features) which indirectly represents of the state of the system subject to performance decay has been acquired and stored in the dataset over the parameter’s space."
   ]
  },
  {
   "cell_type": "markdown",
   "id": "dc1bf249-aec1-4027-babf-cfb2601b58aa",
   "metadata": {},
   "source": [
    "The A 13-feature vector containing the GT measures at steady state of the physical asset:\n",
    "- Lever position (lp)\n",
    "- Ship speed (v)\n",
    "- Gas Turbine (GT) shaft torque (GTT)\n",
    "- GT rate of revolutions (GTn)\n",
    "- Gas Generator rate of revolutions (GGn)\n",
    "- Port Propeller Torque (Tp)\n",
    "- Hight Pressure (HP) Turbine exit temperature (T48)\n",
    "- GT Compressor outlet air temperature (T2)\n",
    "- HP Turbine exit pressure (P48)\n",
    "- GT Compressor outlet air pressure (P2)\n",
    "- GT exhaust gas pressure (Pexh)\n",
    "- Turbine Injection Control (TIC)\n",
    "- Fuel flow (mf)\n",
    "- GT Compressor decay state coefficient"
   ]
  },
  {
   "cell_type": "code",
   "execution_count": 4,
   "id": "5ee2c9f9-f187-43b7-92a5-f3d00c390d23",
   "metadata": {},
   "outputs": [],
   "source": [
    "import pandas as pd\n",
    "import numpy as np\n",
    "import matplotlib.pyplot as plt\n",
    "%matplotlib inline\n",
    "from scipy.io import loadmat"
   ]
  },
  {
   "cell_type": "code",
   "execution_count": 172,
   "id": "6be49d9a-d8f7-46a2-be4e-42764eda5b26",
   "metadata": {},
   "outputs": [],
   "source": [
    "ship_test = pd.read_csv(\"Shiptest-2.csv\", header=None)\n",
    "ship_train = pd.read_csv(\"Shiptrain-2.csv\", header=None)"
   ]
  },
  {
   "cell_type": "code",
   "execution_count": 173,
   "id": "34c1e145-447f-447b-aecf-e984a7afa504",
   "metadata": {},
   "outputs": [],
   "source": [
    "X_train = ship_train.iloc[:,:-1]\n",
    "y_train = ship_train.iloc[:,-1:]\n",
    "X_test = ship_test.iloc[:,:-1]\n",
    "y_test = ship_test.iloc[:,-1:]"
   ]
  },
  {
   "cell_type": "code",
   "execution_count": 174,
   "id": "cdfbf5cb-e3b3-4761-a7a4-bcdc241fea76",
   "metadata": {},
   "outputs": [],
   "source": [
    "lambda_1 = 0.1\n",
    "lambda_2 = 0.9"
   ]
  },
  {
   "cell_type": "code",
   "execution_count": 363,
   "id": "9af52500-f2dd-47ab-818f-42a109aae983",
   "metadata": {},
   "outputs": [],
   "source": [
    "iterations = 100\n",
    "rho = 0.1\n",
    "w = 0\n",
    "z = np.random.rand(13).reshape(-1,1)\n",
    "A = X_train.values\n",
    "b = y_train.values\n",
    "loss = []\n",
    "for i in range(iterations):\n",
    "    x = (np.linalg.inv(np.dot(A.T,A) + (rho*np.eye(13)))).dot(rho*(z-w) + np.dot(A.T, b))\n",
    "    for i in range(len(z)):\n",
    "        if np.sign(z[i])>0:\n",
    "            z = rho*(w+x)/(lambda_2-rho) - lambda_1\n",
    "        else: \n",
    "            z = rho*(w+x)/(lambda_2-rho) + lambda_1\n",
    "    w = w + rho*(x-z)\n",
    "    loss.append(np.sum(0.5*(np.dot(A,x)-b)**2))"
   ]
  },
  {
   "cell_type": "code",
   "execution_count": 366,
   "id": "bd76c08e-b01f-49f7-a788-ffb742d78dbc",
   "metadata": {},
   "outputs": [
    {
     "data": {
      "text/plain": [
       "Text(0, 0.5, 'Obj')"
      ]
     },
     "execution_count": 366,
     "metadata": {},
     "output_type": "execute_result"
    },
    {
     "data": {
      "image/png": "[encoded data removed]",
      "text/plain": [
       "<Figure size 720x360 with 1 Axes>"
      ]
     },
     "metadata": {
      "needs_background": "light"
     },
     "output_type": "display_data"
    }
   ],
   "source": [
    "plt.figure(figsize=(10,5))\n",
    "plt.plot(loss)\n",
    "plt.title('Obj function vs iterations')\n",
    "plt.xlabel('Number of iterations')\n",
    "plt.ylabel('Obj')"
   ]
  },
  {
   "cell_type": "code",
   "execution_count": 357,
   "id": "9ab9ed42-0f28-4f6e-838a-74669d835a12",
   "metadata": {},
   "outputs": [
    {
     "name": "stdout",
     "output_type": "stream",
     "text": [
      "Coefficients\n"
     ]
    },
    {
     "data": {
      "text/plain": [
       "array([[-5.05840315e-02],\n",
       "       [ 1.03456745e-02],\n",
       "       [ 1.21482112e-05],\n",
       "       [-2.86479882e-04],\n",
       "       [-1.49933306e-05],\n",
       "       [-1.52302544e-03],\n",
       "       [-9.13559793e-04],\n",
       "       [ 1.36474482e-03],\n",
       "       [ 1.85080531e-01],\n",
       "       [ 5.00636758e-02],\n",
       "       [ 6.72727845e-01],\n",
       "       [-1.62063399e-04],\n",
       "       [-1.76737055e-01]])"
      ]
     },
     "execution_count": 357,
     "metadata": {},
     "output_type": "execute_result"
    }
   ],
   "source": [
    "print(\"Coefficients\")\n",
    "x"
   ]
  },
  {
   "cell_type": "markdown",
   "id": "ed5f590e-ac7c-4d28-9ece-d23be76f0f7f",
   "metadata": {},
   "source": [
    "Sum absolute errors"
   ]
  },
  {
   "cell_type": "code",
   "execution_count": 376,
   "id": "4c1973c2-6db2-4186-89c7-ba5552b6ef2f",
   "metadata": {},
   "outputs": [
    {
     "name": "stdout",
     "output_type": "stream",
     "text": [
      "Sum absolute mean-squared errors: 0.14\n",
      "Sum absolute errors: 21.1\n"
     ]
    }
   ],
   "source": [
    "abs_ms_errors = []\n",
    "abs_errors = []\n",
    "for A, b in zip(X_test.values, y_test.values):\n",
    "    abs_ms_errors.append(abs(np.sum(0.5*(np.dot(A,x)-b)**2)))\n",
    "    abs_errors.append(abs(np.sum(np.dot(A,x)-b)))\n",
    "print(\"Sum absolute mean-squared errors:\", round(sum(abs_ms_errors), 2))\n",
    "print(\"Sum absolute errors:\", round(sum(abs_errors), 2))"
   ]
  }
 ],
 "metadata": {
  "kernelspec": {
   "display_name": "Python 3",
   "language": "python",
   "name": "python3"
  },
  "language_info": {
   "codemirror_mode": {
    "name": "ipython",
    "version": 3
   },
   "file_extension": ".py",
   "mimetype": "text/x-python",
   "name": "python",
   "nbconvert_exporter": "python",
   "pygments_lexer": "ipython3",
   "version": "3.8.8"
  }
 },
 "nbformat": 4,
 "nbformat_minor": 5
}
