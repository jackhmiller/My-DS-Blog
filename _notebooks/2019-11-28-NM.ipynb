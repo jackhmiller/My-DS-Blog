{
  "nbformat": 4,
  "nbformat_minor": 5,
  "metadata": {
    "kernelspec": {
      "display_name": "Python 3",
      "language": "python",
      "name": "python3"
    },
    "language_info": {
      "codemirror_mode": {
        "name": "ipython",
        "version": 3
      },
      "file_extension": ".py",
      "mimetype": "text/x-python",
      "name": "python",
      "nbconvert_exporter": "python",
      "pygments_lexer": "ipython3",
      "version": "3.8.8"
    },
    "colab": {
      "name": "2019-11-28-NM.ipynb",
      "provenance": []
    }
  },
  "cells": [
    {
      "cell_type": "markdown",
      "metadata": {
        "id": "5443c68e-cb7c-42b6-b4cb-b2d3a63ef8bc"
      },
      "source": [
        "# Accelerated Gradient Descent and Newton's Method\n",
        "> \"From scratch implementation of accelerated GD and Newton's method using a funky gamma-distributed loss function\"\n",
        "- toc: false\n",
        "- branch: master\n",
        "- badges: true\n",
        "- comments: true\n",
        "- image: images/Hess.png\n",
        "- hide: false\n",
        "- search_exclude: false"
      ],
      "id": "5443c68e-cb7c-42b6-b4cb-b2d3a63ef8bc"
    },
    {
      "cell_type": "markdown",
      "metadata": {
        "id": "7488e454-366f-42a7-83ea-6e599d57543b"
      },
      "source": [
        "Nonconvex optimization problems are ubiquitous in modern machine learning. While it is NP-hard to find global minima of a nonconvex function in the worst case, in the setting of machine learning it has proved useful to consider a less stringent notion of success, namely that of convergence to a first-order stationary point. However, architectures such as deep neural networks induce optimization surfaces that can be teeming with highly suboptimal saddle points."
      ],
      "id": "7488e454-366f-42a7-83ea-6e599d57543b"
    },
    {
      "cell_type": "markdown",
      "metadata": {
        "id": "0e80fc86-b5a9-4ac5-b081-cfd123481675"
      },
      "source": [
        "In this setting, the glaring limitation of gradient descent is that it can get stuck in flat areas or bounce around if the objective function returns noisy gradients. Therefore second-order descent methods are needed for optimization. Momentum is an approach that accelerates the progress of the search to skim across flat areas and smooth out bouncy gradients. In some cases, the acceleration of momentum can cause the search to miss or overshoot the minima at the bottom of basins or valleys. Nesterov momentum is an extension of momentum that involves calculating the decaying moving average of the gradients of projected positions in the search space rather than the actual positions themselves. This has the effect of harnessing the accelerating benefits of momentum whilst allowing the search to slow down when approaching the optima and reduce the likelihood of missing or overshooting it. Further, Nesterov’s accelerated gradient descent (AGD), an instance of the general family of “momentum methods,” provably achieves faster convergence rate than gradient descent (GD) in the convex setting."
      ],
      "id": "0e80fc86-b5a9-4ac5-b081-cfd123481675"
    },
    {
      "cell_type": "markdown",
      "metadata": {
        "id": "3fc3d052-0311-4f44-b0f2-e206cec0971a"
      },
      "source": [
        "$$ L(\\alpha,\\beta|y_1,...,y_n) = \\prod_{i=1}^{n}\\frac{\\Gamma (\\alpha+\\beta)}{\\Gamma(\\alpha)\\Gamma(\\beta)}y_i^{\\alpha-1}(1-y_i)^{\\beta-1} $$"
      ],
      "id": "3fc3d052-0311-4f44-b0f2-e206cec0971a"
    },
    {
      "cell_type": "markdown",
      "metadata": {
        "id": "e43fff4d-5995-495a-af8c-a814f9821ee8"
      },
      "source": [
        "Given the above likelihood function, where $\\Gamma$ is the gamma function, and $\\alpha$ and $\\beta$ are greater than zero. First, we convert our likelihood function to the log likelihood. "
      ],
      "id": "e43fff4d-5995-495a-af8c-a814f9821ee8"
    },
    {
      "cell_type": "markdown",
      "metadata": {
        "id": "b1c64868-2919-4263-a9bb-c3c62f2c985e"
      },
      "source": [
        "$$ log(L(\\alpha, \\beta | y_{1}, ..., y_{n})) = nlog(\\Gamma(a+b)) -nlog(\\Gamma(a)) -nlog(\\Gamma(b)) +(a-1)\\sum_{i=1}^{n}log(y_{i}) +(b-1)\\sum_{i=1}^{n}log(1-y_{i}) $$"
      ],
      "id": "b1c64868-2919-4263-a9bb-c3c62f2c985e"
    },
    {
      "cell_type": "markdown",
      "metadata": {
        "id": "fc63d4a2-7e68-4f0f-ba89-ba42049e7dd6"
      },
      "source": [
        "And its maximum likelihood formulation."
      ],
      "id": "fc63d4a2-7e68-4f0f-ba89-ba42049e7dd6"
    },
    {
      "cell_type": "markdown",
      "metadata": {
        "id": "e79c0458-9203-42b0-b6e6-598bb40ad745"
      },
      "source": [
        "$$ \\widehat{\\alpha}, \\widehat{\\beta} = \\underset{i}{argmax}(log(\\widehat{L}(\\alpha, \\beta | y_{1}, ..., y_{n}))) $$"
      ],
      "id": "e79c0458-9203-42b0-b6e6-598bb40ad745"
    },
    {
      "cell_type": "markdown",
      "metadata": {
        "id": "5cdcf81d-9f01-4a56-b031-6fb845ab3651"
      },
      "source": [
        "And our gradient and Hessian from the log likelihood function:"
      ],
      "id": "5cdcf81d-9f01-4a56-b031-6fb845ab3651"
    },
    {
      "cell_type": "markdown",
      "metadata": {
        "id": "1e6b9911-eabd-4e63-a8c0-32a354133fe3"
      },
      "source": [
        "&emsp; Gradient"
      ],
      "id": "1e6b9911-eabd-4e63-a8c0-32a354133fe3"
    },
    {
      "cell_type": "markdown",
      "metadata": {
        "id": "46930c9a-0425-47b5-8bc3-ada02f65d071"
      },
      "source": [
        "$$ \n",
        "\\bigtriangledown log(L)) =\n",
        "\\begin{bmatrix}\n",
        "n\\psi(\\alpha+\\beta) -n\\psi(\\alpha) +\\sum_{i=1}^{n}log(y_{i})\n",
        "\\\\ \n",
        "n\\psi(\\alpha+\\beta) -n\\psi(\\beta) +\\sum_{i=1}^{n}log(1-y_{i})\n",
        "\\end{bmatrix}\n",
        "$$"
      ],
      "id": "46930c9a-0425-47b5-8bc3-ada02f65d071"
    },
    {
      "cell_type": "markdown",
      "metadata": {
        "id": "44ad88e3-11b1-42d6-ba12-99d6f5d5857c"
      },
      "source": [
        "&emsp; Hessian"
      ],
      "id": "44ad88e3-11b1-42d6-ba12-99d6f5d5857c"
    },
    {
      "cell_type": "markdown",
      "metadata": {
        "id": "5db2340c-8b20-4e2e-a7a6-5ef3a3538ec3"
      },
      "source": [
        "$$ \\bigtriangledown^{2} log(L) =\n",
        "\\begin{bmatrix}\n",
        "n\\psi'(\\alpha+\\beta) -n\\psi'(\\alpha) & n\\psi'(\\alpha+\\beta)\n",
        "\\\\ \n",
        " n\\psi'(\\alpha+\\beta) & n\\psi'(\\alpha+\\beta) -n\\psi'(\\beta)  \n",
        "\\end{bmatrix}\n",
        "$$"
      ],
      "id": "5db2340c-8b20-4e2e-a7a6-5ef3a3538ec3"
    },
    {
      "cell_type": "markdown",
      "metadata": {
        "id": "ff9304c9-e15d-4ad4-85a4-2157516eac7b"
      },
      "source": [
        "#### Let's code it up.\n",
        "For digamma $\\psi(x) = \\frac{\\Gamma'(x)}{\\Gamma(x)}$ and trigamma $\\psi'(x)$, we will cheat and use built-in functions from scipy."
      ],
      "id": "ff9304c9-e15d-4ad4-85a4-2157516eac7b"
    },
    {
      "cell_type": "code",
      "metadata": {
        "id": "073a39b7-5a02-416d-bc92-75a65edde4ab"
      },
      "source": [
        "import matplotlib.pyplot as plt\n",
        "import numpy as np\n",
        "import pandas as pd\n",
        "import math\n",
        "from scipy.io import loadmat\n",
        "import seaborn as sns\n",
        "import scipy\n",
        "from sklearn.model_selection import KFold, cross_val_score\n",
        "from random import randrange\n",
        "from scipy.interpolate import BSpline\n",
        "from scipy.ndimage import gaussian_filter\n",
        "%matplotlib inline\n",
        "from scipy.special import digamma, polygamma"
      ],
      "id": "073a39b7-5a02-416d-bc92-75a65edde4ab",
      "execution_count": null,
      "outputs": []
    },
    {
      "cell_type": "markdown",
      "metadata": {
        "id": "697984eb-6023-4eff-8d56-9b388fa92b70"
      },
      "source": [
        "Loading the data and coding our objective function, gradient, and Hessian."
      ],
      "id": "697984eb-6023-4eff-8d56-9b388fa92b70"
    },
    {
      "cell_type": "code",
      "metadata": {
        "id": "cbeaf075-db3d-4f77-9078-cc17427305f5"
      },
      "source": [
        "Y = loadmat('Sample_data.mat')['y']"
      ],
      "id": "cbeaf075-db3d-4f77-9078-cc17427305f5",
      "execution_count": null,
      "outputs": []
    },
    {
      "cell_type": "code",
      "metadata": {
        "id": "9124721b-f946-454e-8f7a-409f48869644"
      },
      "source": [
        "def objective(data, x):\n",
        "    n = len(data)\n",
        "    return n*math.log(math.gamma(x[0]+x[1]))-n*math.log(math.gamma(x[0]))-n*math.log(math.gamma(x[1])) + (x[0]-1)*sum([math.log(i) for i in data]) + (x[1]-1)*sum([math.log(1-i) for i in data]) \n",
        "\n",
        "def gradient(data, x):\n",
        "    n = len(data)\n",
        "    return np.array([n* digamma(x[0]+x[1]) - n*digamma(x[0]) + sum([math.log(i) for i in data]), n* digamma(x[0]+x[1]) - n*digamma(x[1]) + sum([math.log(1-i) for i in data])]) \n",
        "\n",
        "def Hessian(data, x):\n",
        "    n = len(data)\n",
        "    return np.array([[n* polygamma(1, x[0]+x[1]) - n*polygamma(1, x[0]), n* polygamma(1, x[0]+x[1])],[n* polygamma(1, x[0]+x[1]), n* polygamma(1, x[0]+x[1]) - n*polygamma(1, x[1])]])"
      ],
      "id": "9124721b-f946-454e-8f7a-409f48869644",
      "execution_count": null,
      "outputs": []
    },
    {
      "cell_type": "markdown",
      "metadata": {
        "id": "6a7329b7-3c23-452e-aedc-f312ec5c5a43"
      },
      "source": [
        "&emsp; Newton's Method"
      ],
      "id": "6a7329b7-3c23-452e-aedc-f312ec5c5a43"
    },
    {
      "cell_type": "code",
      "metadata": {
        "id": "1b28a90e-f650-4c7b-be3a-f74aa41bd9c4",
        "outputId": "5c96d87a-d9d7-48cc-f033-5c954fda7f56"
      },
      "source": [
        "alpha = 1 \n",
        "lam = 1e-10\n",
        "epsilon = 0.01\n",
        "x0 = np.random.rand(2)\n",
        "\n",
        "f0 = objective(Y, x0) # initialize\n",
        "fL = [f0]\n",
        "g0  = gradient(Y, x0) # initialize\n",
        "gL = [g0]\n",
        "H0 = Hessian(Y, x0) # initialize\n",
        "Omega = -np.linalg.solve(H0 + lam*np.eye(2),g0)\n",
        "stopping = np.linalg.norm(Omega)\n",
        "iterations = 1\n",
        "params = []\n",
        "while stopping > epsilon:\n",
        "    x = x0 + alpha*Omega \n",
        "    fval = objective(Y, x)\n",
        "    while fval < f0: \n",
        "        alpha *= 0.1\n",
        "        x = x0 + alpha*Omega \n",
        "        fval = objective(Y, x)\n",
        "    alpha = alpha**0.5\n",
        "    params.append(x)\n",
        "    x0 = x\n",
        "    f0 = fval\n",
        "    fL.append(fval)\n",
        "    g0 = gradient(Y, x0)\n",
        "    Omega = -np.linalg.solve(Hessian(Y, x0)+lam*np.eye(2),g0)\n",
        "    stopping = np.linalg.norm(Omega)\n",
        "    iterations += 1\n",
        "\n",
        "results = x0\n",
        "iters = iterations\n",
        "\n",
        "plt.figure(figsize=(20,10))\n",
        "plt.plot(fL)\n",
        "plt.title('Newton Method')\n",
        "plt.xlabel('Number of iterations')\n",
        "plt.ylabel('Log-Likelihood')"
      ],
      "id": "1b28a90e-f650-4c7b-be3a-f74aa41bd9c4",
      "execution_count": null,
      "outputs": [
        {
          "data": {
            "text/plain": [
              "Text(0, 0.5, 'Log-Likelihood')"
            ]
          },
          "execution_count": 4,
          "metadata": {},
          "output_type": "execute_result"
        },
        {
          "data": {
            "image/png": "[encoded data removed]",
            "text/plain": [
              "<Figure size 1440x720 with 1 Axes>"
            ]
          },
          "metadata": {
            "needs_background": "light"
          },
          "output_type": "display_data"
        }
      ]
    },
    {
      "cell_type": "code",
      "metadata": {
        "id": "2e791449-bf76-4bbe-8d14-918c23a42d56",
        "outputId": "349a9fb2-60c7-4693-dbb7-c2c4f73e66d1"
      },
      "source": [
        "fig, ax = plt.subplots(figsize=(15,10))\n",
        "ax.plot([x[0] for x in params], lw=3, label='Alpha')\n",
        "ax.plot([x[1] for x in params], lw = 3, label='Beta')\n",
        "plt.title('Alpha & Beta Values vs Number of Iterations')\n",
        "plt.xlabel('Number of iterations')\n",
        "plt.ylabel('Parameter Value')\n",
        "ax.legend(loc='best')"
      ],
      "id": "2e791449-bf76-4bbe-8d14-918c23a42d56",
      "execution_count": null,
      "outputs": [
        {
          "data": {
            "text/plain": [
              "<matplotlib.legend.Legend at 0x21414a0d940>"
            ]
          },
          "execution_count": 5,
          "metadata": {},
          "output_type": "execute_result"
        },
        {
          "data": {
            "image/png": "[encoded data removed]",
            "text/plain": [
              "<Figure size 1080x720 with 1 Axes>"
            ]
          },
          "metadata": {
            "needs_background": "light"
          },
          "output_type": "display_data"
        }
      ]
    },
    {
      "cell_type": "code",
      "metadata": {
        "id": "35a1aabd-f0e0-485a-91a5-2427ddb1f6f5",
        "outputId": "e33568b9-bf72-46db-d220-0ae51c31f7c0"
      },
      "source": [
        "print(f\" Newton's Method optimized parameter values- Alpha: {round(x0[0], 3)}, Beta: {round(x0[1], 3)}\")"
      ],
      "id": "35a1aabd-f0e0-485a-91a5-2427ddb1f6f5",
      "execution_count": null,
      "outputs": [
        {
          "name": "stdout",
          "output_type": "stream",
          "text": [
            " Newton's Method optimized parameter values- Alpha: 4.97, Beta: 12.173\n"
          ]
        }
      ]
    },
    {
      "cell_type": "markdown",
      "metadata": {
        "id": "28179da7-6b1b-4759-90d2-21a2d69b676e"
      },
      "source": [
        "&emsp; Accelerated Gradient Descent"
      ],
      "id": "28179da7-6b1b-4759-90d2-21a2d69b676e"
    },
    {
      "cell_type": "code",
      "metadata": {
        "id": "2e033566-5e83-4edb-9179-f5ad8cd64e8d"
      },
      "source": [
        "x = np.random.rand(2)\n",
        "beta = np.random.rand(2) \n",
        "x0 = x \n",
        "\n",
        "convergence = gradient(Y, beta)@gradient(Y, beta)\n",
        "convergence_results = [convergence]\n",
        "loss = [objective(Y, x)]\n",
        "alpha = 0.1\n",
        "epsilon = 0.01\n",
        "iterations = 1\n",
        "while convergence > epsilon:\n",
        "    x = beta + alpha*gradient(Y, x)\n",
        "    beta = x - (iterations-1)/(iterations+2)*(x-x0)\n",
        "    convergence = gradient(Y, x)@gradient(Y, x)\n",
        "    convergence_results.append(convergence)\n",
        "    try:\n",
        "        loss.append(objective(Y, x))\n",
        "    except:\n",
        "        pass\n",
        "    x0 = x\n",
        "    iterations += 1\n",
        "    \n",
        "results = x0\n",
        "iters = iterations\n",
        "\n",
        "plt.figure(figsize=(20,10))\n",
        "plt.plot(loss)\n",
        "plt.title('Accelerated Gradient Descent')\n",
        "plt.xlabel('Iterations')\n",
        "plt.ylabel('Log-Likelihood')"
      ],
      "id": "2e033566-5e83-4edb-9179-f5ad8cd64e8d",
      "execution_count": null,
      "outputs": []
    },
    {
      "cell_type": "code",
      "metadata": {
        "id": "be4ea18f-fa3e-4dbf-9136-75337eba03f3"
      },
      "source": [
        ""
      ],
      "id": "be4ea18f-fa3e-4dbf-9136-75337eba03f3",
      "execution_count": null,
      "outputs": []
    }
  ]
}