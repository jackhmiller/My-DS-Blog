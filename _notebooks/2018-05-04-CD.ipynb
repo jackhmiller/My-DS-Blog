{
  "nbformat": 4,
  "nbformat_minor": 5,
  "metadata": {
    "kernelspec": {
      "display_name": "Python 3",
      "language": "python",
      "name": "python3"
    },
    "language_info": {
      "codemirror_mode": {
        "name": "ipython",
        "version": 3
      },
      "file_extension": ".py",
      "mimetype": "text/x-python",
      "name": "python",
      "nbconvert_exporter": "python",
      "pygments_lexer": "ipython3",
      "version": "3.8.8"
    },
    "colab": {
      "name": "Untitled.ipynb",
      "provenance": []
    }
  },
  "cells": [
    {
      "cell_type": "markdown",
      "metadata": {
        "id": "3b414a0a-f9cf-4ee3-b1cf-c3c3c35979cf"
      },
      "source": [
        "# Coordinate Descent is Fast!\n",
        "> \"A simple demonstration of how cool coordinate descent is.\"\n",
        "- toc: false\n",
        "- branch: master\n",
        "- badges: true\n",
        "- comments: true\n",
        "- image: images/CD.png\n",
        "- hide: false\n",
        "- search_exclude: false"
      ],
      "id": "3b414a0a-f9cf-4ee3-b1cf-c3c3c35979cf"
    },
    {
      "cell_type": "markdown",
      "metadata": {
        "id": "db2dc447-8b4a-4082-b453-bb895a9fbba6"
      },
      "source": [
        "Coordinate descent (CD) algorithms solve optimization problems by successively performing approximate minimization along coordinate directions or coordinate hyperplanes. They have been used in applications for many years, and their popularity continues to grow because of their usefulness in data analysis, machine learning, and other areas of current interest.\n",
        "<br>"
      ],
      "id": "db2dc447-8b4a-4082-b453-bb895a9fbba6"
    },
    {
      "cell_type": "markdown",
      "metadata": {
        "id": "bb3512fa-16b4-4ec7-a75b-44481e654ba2"
      },
      "source": [
        "CD methods are the archetype of an almost universal approach to algorithmic optimization: solving an optimization problem by solving a sequence of simpler optimization problems. The obviousness of the CD approach and its acceptable performance in many situations probably account for its longstanding appeal among practitioners. Paradoxically, the apparent lack of sophistication may also account for its unpopularity as a subject for investigation by optimization researchers, who have usually been quick to suggest alternative approaches in any given situation.\n",
        "<br>"
      ],
      "id": "bb3512fa-16b4-4ec7-a75b-44481e654ba2"
    },
    {
      "cell_type": "markdown",
      "metadata": {
        "id": "de7991d1-810d-444e-9fef-8e0220b45041"
      },
      "source": [
        "Various applications (including several in computational statistics and machine learning) have yielded problems for which CD approaches are competitive in performance with more reputable alternatives. The properties of these problems (for example, the low cost of calculating one component of the gradient, and the need for solutions of only modest accuracy) lend themselves well to efficient implementations of CD, and CD methods can be adapted well to handle such special features of these applications as nonsmooth regularization terms and a small number of equality constraints. At the same time, there have been improvements in the algorithms themselves and in our understanding of them. Besides their extension to handle the features just mentioned, new variants that make use of randomization and acceleration have been introduced. Parallel implementations that lend themselves well to modern computer architectures have been implemented and analyzed. Perhaps most surprisingly, these developments are relevant even to the most fundamental problem in numerical computation: solving the linear equations Aw = b.\n",
        "<br>"
      ],
      "id": "de7991d1-810d-444e-9fef-8e0220b45041"
    },
    {
      "cell_type": "markdown",
      "metadata": {
        "id": "0174832f-3f08-476c-b061-bb895d2c2f8f"
      },
      "source": [
        "So let's explore Coordinate Descent with the simplest of cases: plain old linear regression using some of the ever so used mtcars dataset. Recall that the sum of squared residuals is:\n",
        "<br>"
      ],
      "id": "0174832f-3f08-476c-b061-bb895d2c2f8f"
    },
    {
      "cell_type": "markdown",
      "metadata": {
        "id": "994bebfe-e826-42c6-a14d-d3fa82d43842"
      },
      "source": [
        "$$RSS = \\sum\\left(y_i - \\sum x_{ij}\\beta_j\\right)^2$$"
      ],
      "id": "994bebfe-e826-42c6-a14d-d3fa82d43842"
    },
    {
      "cell_type": "markdown",
      "metadata": {
        "id": "73d5806d-1d8a-4a3a-8a96-f6f398a9a0c4"
      },
      "source": [
        "Quickly deriving our objective function:"
      ],
      "id": "73d5806d-1d8a-4a3a-8a96-f6f398a9a0c4"
    },
    {
      "cell_type": "markdown",
      "metadata": {
        "id": "08a898b0-f979-4bf3-996f-40e88de6c622"
      },
      "source": [
        "$$ f(\\beta ) = argmin \\left \\| y_i-x_{ij}\\beta_j \\right \\|^2_2 $$"
      ],
      "id": "08a898b0-f979-4bf3-996f-40e88de6c622"
    },
    {
      "cell_type": "markdown",
      "metadata": {
        "id": "233a7038-9141-48e8-82c5-c32a1c24016b"
      },
      "source": [
        "$$ =(y-x\\beta)^T(y-x\\beta) $$"
      ],
      "id": "233a7038-9141-48e8-82c5-c32a1c24016b"
    },
    {
      "cell_type": "markdown",
      "metadata": {
        "id": "43434c1e-b9b4-4bcd-8116-03b50802eca5"
      },
      "source": [
        "$$ \\hat{\\beta} = (x^Tx)^{-1}(x^Ty) $$ aka OLS."
      ],
      "id": "43434c1e-b9b4-4bcd-8116-03b50802eca5"
    },
    {
      "cell_type": "markdown",
      "metadata": {
        "id": "d6732682-4a2e-4630-8e5b-5b88d56d484c"
      },
      "source": [
        "<br>\n",
        "Now let's do our update steps:"
      ],
      "id": "d6732682-4a2e-4630-8e5b-5b88d56d484c"
    },
    {
      "cell_type": "markdown",
      "metadata": {
        "id": "2267a1a2-b803-4559-9b3b-bc31d931090c"
      },
      "source": [
        "$$ 0 = \\bigtriangledown_i f(x) = \\beta_j^T(\\beta_j x_{ij} + \\beta_{j}x_{i-1,j}-y_i) $$"
      ],
      "id": "2267a1a2-b803-4559-9b3b-bc31d931090c"
    },
    {
      "cell_type": "markdown",
      "metadata": {
        "id": "6dcc6b85-7e82-43d3-a276-2d0be5ae23bd"
      },
      "source": [
        "$$ x_{ij} = \\frac{\\beta_j^T(y_i-\\beta_jx_{i-1, j})}{\\beta_j^T\\beta_j} $$\n",
        "$$ x_{ij} = \\frac{\\beta_j^T(residual_{i-1,j})}{\\left \\| \\beta_j \\right \\|^2} $$"
      ],
      "id": "6dcc6b85-7e82-43d3-a276-2d0be5ae23bd"
    },
    {
      "cell_type": "markdown",
      "metadata": {
        "id": "69bc8774-5135-4f1e-9b9a-da85b808a814"
      },
      "source": [
        "Loading the data and off we go."
      ],
      "id": "69bc8774-5135-4f1e-9b9a-da85b808a814"
    },
    {
      "cell_type": "code",
      "metadata": {
        "tags": [],
        "id": "81e5ad89-50f8-47b5-8bfc-43facfbb01f7"
      },
      "source": [
        "cd_data = loadmat('mtcars.mat')['data']\n",
        "cd_df = pd.DataFrame(cd_data)"
      ],
      "id": "81e5ad89-50f8-47b5-8bfc-43facfbb01f7",
      "execution_count": null,
      "outputs": []
    },
    {
      "cell_type": "code",
      "metadata": {
        "id": "e280e25d-856b-446f-b59e-1010035edef5"
      },
      "source": [
        "y = cd_df[0].values\n",
        "x = cd_df.loc[:, 1:].values"
      ],
      "id": "e280e25d-856b-446f-b59e-1010035edef5",
      "execution_count": null,
      "outputs": []
    },
    {
      "cell_type": "code",
      "metadata": {
        "id": "f49345bb-ac42-4dfe-8fe5-a2b6f041654d"
      },
      "source": [
        "inter = np.ones(x.shape[0])\n",
        "X = np.column_stack((inter, x))\n",
        "X_Normalized = X / np.sqrt(np.sum(np.square(X), axis=0))"
      ],
      "id": "f49345bb-ac42-4dfe-8fe5-a2b6f041654d",
      "execution_count": null,
      "outputs": []
    },
    {
      "cell_type": "markdown",
      "metadata": {
        "id": "95d34305-c7aa-463e-ac00-8cb8271452de"
      },
      "source": [
        "Define our loss function"
      ],
      "id": "95d34305-c7aa-463e-ac00-8cb8271452de"
    },
    {
      "cell_type": "code",
      "metadata": {
        "id": "97449104-d49c-4300-839a-adad783b757b"
      },
      "source": [
        "def loss(b):\n",
        "    return sum((y - X_Normalized@b)**2) "
      ],
      "id": "97449104-d49c-4300-839a-adad783b757b",
      "execution_count": null,
      "outputs": []
    },
    {
      "cell_type": "markdown",
      "metadata": {
        "id": "4100c2a3-b383-41ca-b014-ff90dd0555f4"
      },
      "source": [
        "Coding the descent from scratch using numpy"
      ],
      "id": "4100c2a3-b383-41ca-b014-ff90dd0555f4"
    },
    {
      "cell_type": "code",
      "metadata": {
        "id": "76272c70-e359-4bdd-bd2c-03d1a4cadd4c",
        "outputId": "edef2873-1eb4-4301-dca8-c8bf25da4c2f"
      },
      "source": [
        "b = np.zeros(X_Normalized.shape[1])\n",
        "losses = [loss(b)]\n",
        "iterations = 1\n",
        "for iteration in range(100):\n",
        "    r = y - X_Normalized.dot(b)\n",
        "    for j in range(len(b)):\n",
        "        r = r + X_Normalized[:, j] * b[j]\n",
        "        b[j] = X_Normalized[:, j].dot(r)\n",
        "        r = r - X_Normalized[:, j] * b[j]\n",
        "    losses.append(loss(b))\n",
        "    iterations += 1"
      ],
      "id": "76272c70-e359-4bdd-bd2c-03d1a4cadd4c",
      "execution_count": null,
      "outputs": [
        {
          "data": {
            "text/plain": [
              "array([193.44428449, -44.7866386 , -27.77448248, -13.3819371 ])"
            ]
          },
          "execution_count": 163,
          "metadata": {},
          "output_type": "execute_result"
        }
      ]
    },
    {
      "cell_type": "code",
      "metadata": {
        "id": "f0a1b8bf-4276-4191-839c-7740bf17a0b7",
        "outputId": "9a46d1de-33c3-40fb-a4aa-02e4e71acc5f"
      },
      "source": [
        "plt.plot(losses)\n",
        "plt.title('CD Loss')\n",
        "plt.xlabel('Iteration')"
      ],
      "id": "f0a1b8bf-4276-4191-839c-7740bf17a0b7",
      "execution_count": null,
      "outputs": [
        {
          "data": {
            "text/plain": [
              "Text(0.5, 0, 'Iteration')"
            ]
          },
          "execution_count": 165,
          "metadata": {},
          "output_type": "execute_result"
        },
        {
          "data": {
            "image/png": "[encoded data removed]",
            "text/plain": [
              "<Figure size 432x288 with 1 Axes>"
            ]
          },
          "metadata": {
            "needs_background": "light"
          },
          "output_type": "display_data"
        }
      ]
    },
    {
      "cell_type": "markdown",
      "metadata": {
        "id": "b825ae8e-e02f-4f52-b5f8-dbb50a7f9306"
      },
      "source": [
        "Our loss function converges almost instantly!"
      ],
      "id": "b825ae8e-e02f-4f52-b5f8-dbb50a7f9306"
    },
    {
      "cell_type": "code",
      "metadata": {
        "id": "dac11b3d-c7a9-4763-8d0b-74e002863652",
        "outputId": "87937735-fecd-4672-aa89-041bbfaaed7f"
      },
      "source": [
        "print(\"MSE:\", sum((y - X_Normalized@b)**2) )"
      ],
      "id": "dac11b3d-c7a9-4763-8d0b-74e002863652",
      "execution_count": null,
      "outputs": [
        {
          "name": "stdout",
          "output_type": "stream",
          "text": [
            "MSE: 261.3695510665015\n"
          ]
        }
      ]
    },
    {
      "cell_type": "markdown",
      "metadata": {
        "id": "c0159f70-1a07-4953-9cee-26a0af137273"
      },
      "source": [
        "Just as a sanity check, lets make sure our from scratch implementation produced the same results as sklearn's implementation of linear regression"
      ],
      "id": "c0159f70-1a07-4953-9cee-26a0af137273"
    },
    {
      "cell_type": "code",
      "metadata": {
        "id": "22c4d71a-0139-4a74-b97e-3a3717b2921e"
      },
      "source": [
        "from sklearn import linear_model\n",
        "reg = linear_model.LinearRegression()"
      ],
      "id": "22c4d71a-0139-4a74-b97e-3a3717b2921e",
      "execution_count": null,
      "outputs": []
    },
    {
      "cell_type": "code",
      "metadata": {
        "tags": [],
        "id": "97283cc2-18a0-4d3d-9eb6-68740b8fa7f7",
        "outputId": "d3fc35ce-4d62-48d3-c02c-8b9f6f08cc20"
      },
      "source": [
        "reg.fit (X_Normalized, y)\n",
        "reg.coef_"
      ],
      "id": "97283cc2-18a0-4d3d-9eb6-68740b8fa7f7",
      "execution_count": null,
      "outputs": [
        {
          "data": {
            "text/plain": [
              "array([  0.        , -44.66189706, -27.81172298, -13.40793129])"
            ]
          },
          "execution_count": 105,
          "metadata": {},
          "output_type": "execute_result"
        }
      ]
    }
  ]
}
