{
 "cells": [
  {
   "cell_type": "markdown",
   "id": "797a45b6-fca9-49b3-bcd6-f3b20ea0f367",
   "metadata": {},
   "source": [
    "# A Rigorous Proof of Proximal Gradient Method's Convergence Rate\n",
    "> \"Prooving the convergence rate of PGMs is $O(\\frac{1}{k})$\"\n",
    "- toc: false\n",
    "- branch: master\n",
    "- badges: true\n",
    "- comments: true\n",
    "- categories: [fastpages, jupyter]\n",
    "- image: images/PGD.png\n",
    "- hide: false\n",
    "- search_exclude: false"
   ]
  },
  {
   "cell_type": "markdown",
   "id": "632dc8e3-0a7b-4055-843f-f907e21980a9",
   "metadata": {},
   "source": [
    "#### Proximal Gradient Descent"
   ]
  },
  {
   "cell_type": "markdown",
   "id": "7ddcca9c-66ab-4097-bace-e0f323de6139",
   "metadata": {},
   "source": [
    "A proximal algorithm is an algorithm for solving a convex optimization problem that uses the proximal operators of the objective terms. It is called such since it consists of a gradient step followed by a proximal mapping.  There are three main benefits to the application of proximal algorithms:\n",
    "- 1. They work under extremely general conditions, including cases where the functions are nonsmooth and extended real-valued\n",
    "- 2. They can be fast, since there can be simple proximal operators for functions that are otherwise challenging to handle in an optimization problem\n",
    "- 3. They are amenable to distributed optimization, so they can be used to solve very large scale problems"
   ]
  },
  {
   "cell_type": "markdown",
   "id": "0e3fbbd0-e7f8-4d52-83c4-194ae784e249",
   "metadata": {},
   "source": [
    "The proximal operator is defined as $$ prox_f(x) = argmin\\left \\{ f(u) + \\frac{1}{2}\\left \\| u-x \\right \\|^2: u \\in \\mathbb{R}^n \\right \\}, \\forall x \\in \\mathbb{R}^n $$\n",
    "with the goal being to $$minimize\\left \\{ f(u) + h(u): u \\in \\mathbb{R}^n \\right \\}$$\n",
    "where h is a proper lower semi-continuous function and f is a smooth convex function on dom(h). \n",
    "<br>"
   ]
  },
  {
   "attachments": {
    "2cf20c25-9dfa-4847-b295-2b9aac895f78.PNG": {
     "image/png": "[encoded data removed]"
    }
   },
   "cell_type": "markdown",
   "id": "3c496196-03b6-4875-9a60-ebd3e32bd3d3",
   "metadata": {},
   "source": [
    "![PGD.PNG](attachment:2cf20c25-9dfa-4847-b295-2b9aac895f78.PNG)"
   ]
  },
  {
   "cell_type": "markdown",
   "id": "5611fb46-3957-461f-90ab-33a060440a8c",
   "metadata": {},
   "source": [
    "Example of proximal gradient descent (ISTA) vs. subgradient method convergence rates\n",
    "<br>"
   ]
  },
  {
   "cell_type": "markdown",
   "id": "014a02cc-2ae0-4460-b262-5fc800cdb357",
   "metadata": {},
   "source": [
    "__Some important assumptions before we begin:__"
   ]
  },
  {
   "cell_type": "markdown",
   "id": "766b1dcf-1928-4c89-9bc6-9e14890275cf",
   "metadata": {},
   "source": [
    "We assume that f has L-Lipschitz continuous gradient, i.e., $$\\left \\| \\bigtriangledown f(x) - \\bigtriangledown f(y) \\right \\| \\leq L\\left \\| x-y \\right \\|, \\forall x, y \\in dom(h)$$\n",
    "and hence for every $x, y \\in dom(h)$, $$ f(x) \\leq l_f(x; y) + \\frac{L}{2}\\left \\| x-y \\right \\|^2$$\n",
    "where $l_f(x; y) := f(y) + \\left \\langle \\bigtriangledown f(y), x-y \\right \\rangle$."
   ]
  },
  {
   "cell_type": "markdown",
   "id": "62f42921-7269-4314-a585-014c497d478c",
   "metadata": {},
   "source": [
    "Recal that PGM with a constant prox stepsize is recursive in nature and iterates according to : $$x_{k+1}=prox_{\\lambda h}(x_k-\\lambda\\nabla f(x_k)).$$"
   ]
  },
  {
   "cell_type": "markdown",
   "id": "073e167d-8aa1-438f-b5d3-5c6494048e76",
   "metadata": {},
   "source": [
    "#### Let's get started!"
   ]
  },
  {
   "cell_type": "markdown",
   "id": "276bbe32-c81a-4403-9c32-fe2a4122a52b",
   "metadata": {},
   "source": [
    "First, we will derive a single iteration of PGM and prove that it is strong convex."
   ]
  },
  {
   "cell_type": "markdown",
   "id": "d7dbb27c-b73b-4f5a-93df-ebc4076c4fe3",
   "metadata": {},
   "source": [
    "$$ x_{k+1} = argmin\\left \\{ h(u) +\\frac{1}{2}\\left \\| u-(x_k-\\bigtriangledown f(x_k)) \\right \\|^2 \\right \\}$$"
   ]
  },
  {
   "cell_type": "markdown",
   "id": "14ff5fc9-0aa2-456c-b056-0a49f7de7aad",
   "metadata": {},
   "source": [
    "$$ x_{k+1} = argmin\\left \\{ f(x_k) + \\left \\langle \\bigtriangledown f(x_k), u-x_k \\right \\rangle +h(u) + \\frac{1}{2}\\left \\| x-x_k \\right \\|^2 \\right \\}$$"
   ]
  },
  {
   "cell_type": "markdown",
   "id": "bafad07c-d696-47b8-8146-96555cd4d8e5",
   "metadata": {},
   "source": [
    "$$x_{k+1}= argmin \\left\\{\\ell_f(u;x_k)+h(u) + \\frac{1}{2\\lambda}||u-x_k||^2 \\right\\}, $$"
   ]
  },
  {
   "cell_type": "markdown",
   "id": "e26a33f3-473d-40bd-afd8-69f12bb9fae6",
   "metadata": {},
   "source": [
    "And proving strong convexity $\\left \\langle \\bigtriangledown h(u) - \\bigtriangledown h(x), u - x \\right \\rangle \\geq \\lambda \\left \\| u-x \\right \\|^{2}$:"
   ]
  },
  {
   "cell_type": "markdown",
   "id": "9bd53c6c-56d1-4798-ba4f-9ed5af0e0645",
   "metadata": {},
   "source": [
    "$$ \\left \\langle prox_{\\lambda h}(u) - prox_{\\lambda h}(x), (u-\\frac{1}{\\lambda}\\bigtriangledown h(u)) -(x-\\frac{1}{\\lambda}\\bigtriangledown h(x))  \\right \\rangle \\geq \\left \\| prox_{\\lambda h}(u)-prox_{\\lambda h}(x) \\right \\|^{2} $$"
   ]
  },
  {
   "cell_type": "markdown",
   "id": "9b63b924-9d05-4607-8882-3cdc594f4b1a",
   "metadata": {},
   "source": [
    "$$ \\left \\langle (u - \\frac{1}{\\lambda}\\bigtriangledown h(u)) - (x - \\frac{1}{\\lambda}\\bigtriangledown h(x)), (u-\\frac{1}{\\lambda}\\bigtriangledown h(u)) -(x-\\frac{1}{\\lambda}\\bigtriangledown h(x))  \\right \\rangle \\geq  \\left \\| (u - \\frac{1}{\\lambda}\\bigtriangledown h(u)) - (x - \\frac{1}{\\lambda}\\bigtriangledown h(x)) \\right \\|^{2} $$"
   ]
  },
  {
   "cell_type": "markdown",
   "id": "acb65112-8ebe-4ed1-9156-05d514b5d465",
   "metadata": {},
   "source": [
    "Using the definition of $x_{k+1}$ and the strong convexity, we obtain upon rearranging terms that:"
   ]
  },
  {
   "cell_type": "markdown",
   "id": "cfab72fc-3f68-404c-8f59-048b1ac1f1f5",
   "metadata": {},
   "source": [
    "$$ h(x_{k+1}) \\leq h(x) + \\left \\langle -\\bigtriangledown f(u), x^{k+1}-x \\right \\rangle + \\frac{1}{2}\\left \\| u-x \\right \\|^2 - \\frac{1}{2}\\left \\| u-x^{k+1} \\right \\|^2 - \\frac{1}{2}\\left \\| x^{k+1}-x \\right \\|^2 $$"
   ]
  },
  {
   "cell_type": "markdown",
   "id": "d66888d6-311c-4a41-9475-0527db8fc21b",
   "metadata": {},
   "source": [
    "Due to the Lipschitz continuity:\n",
    "$$ f(x_{k+1}) \\leq f(u) + \\left \\langle -\\bigtriangledown f(u), u-x^{k+1} \\right \\rangle + \\frac{1}{2}\\left \\| u-x_{k+1} \\right \\|^2 $$"
   ]
  },
  {
   "cell_type": "markdown",
   "id": "116cc4b9-d126-46bb-bd15-3baaa7308800",
   "metadata": {},
   "source": [
    "Adding the two: $$ f(x_{k+1}) + h(x_{k+1}) \\leq f(u) + h(x) + \\left \\langle \\bigtriangledown f(u), u-x \\right \\rangle - \\frac{1}{2}\\left \\| x_{k+1}-x \\right \\|^2 + \\frac{1}{2}\\left \\| u-x \\right \\|^2 $$"
   ]
  },
  {
   "cell_type": "markdown",
   "id": "2302fd3a-bba6-4241-8c1a-f10381609f13",
   "metadata": {},
   "source": [
    "Using definition for $\\ell_f(u;x_k)$ $$\\ell_f(u;x_k)+h(u) + \\frac{1}{2}||u-x_k||^2 \\geq \\ell_f(x_{k+1};x_k)+h(x_{k+1})+\\frac{1}{2}||x_{k+1}-x_k||^2 + \\frac{1}{2}||u-x_{k+1}||^2$$"
   ]
  },
  {
   "cell_type": "markdown",
   "id": "24a600b8-008d-4a1a-b005-e436900f8335",
   "metadata": {},
   "source": [
    "Similarly for any x in int(dom(f)):\n",
    "$$ f(x_*) \\leq f(x) + \\left \\langle \\bigtriangledown f(x), x_*-x \\right \\rangle + \\frac{1}{2\\lambda}\\left \\| x_*-x \\right \\|^2 $$\n",
    "It holds that $$ (f+h)(x)-(f+h)(x_*) \\geq \\frac{1}{2\\lambda}\\left \\| x-x_* \\right \\|^2 $$"
   ]
  },
  {
   "cell_type": "markdown",
   "id": "41e01e79-6cbb-4f61-9df6-949babd05280",
   "metadata": {},
   "source": [
    "Consider $$ g(u) = f(x_{k+1})+\\left \\langle \\bigtriangledown f(x_{k+1}), u-x_{k+1} \\right \\rangle + g(u)+\\frac{1}{2\\lambda}\\left \\| u-x_{k+1} \\right \\|^2$$"
   ]
  },
  {
   "cell_type": "markdown",
   "id": "8e211e92-4cc8-4015-9937-af3a110db694",
   "metadata": {},
   "source": [
    "$ x_* = argmin_g(u) $\n",
    "$$ g(x)-g(x_*) \\geq \\frac{1}{2\\lambda}\\left \\| x-x_* \\right \\|^2 $$"
   ]
  },
  {
   "cell_type": "markdown",
   "id": "781a3bd4-af3a-4727-8a59-60b5293e1510",
   "metadata": {},
   "source": [
    "Since $$ g(x_*) = f(x_{k+1}) + \\left \\langle \\bigtriangledown f(x_{k+1}),x_*-x_{k+1} \\right \\rangle + \\frac{1}{2\\lambda}\\left \\| x_*-x_{k+1} \\right \\|^2 + h(x_*) $$\n",
    "$$ \\geq f(x_*)+h(x_*) = (f+h)(x_*) $$"
   ]
  },
  {
   "cell_type": "markdown",
   "id": "a80aa15d-64a9-45aa-9d00-5ddeea064a85",
   "metadata": {},
   "source": [
    "This implies that $$ h(x_{k+1})-(f+h)(x_*) \\geq \\frac{1}{2\\lambda}\\left \\|  x_{k+1}-x_*\\right \\|^2 $$"
   ]
  },
  {
   "cell_type": "markdown",
   "id": "ad5dedcf-d250-4469-86c3-7643261551d8",
   "metadata": {},
   "source": [
    "Plugging for g(u) into above inequality"
   ]
  },
  {
   "cell_type": "markdown",
   "id": "0341f4ba-8870-44f7-a3f4-7ee423a6df3c",
   "metadata": {},
   "source": [
    "$$ f(x_{k+1}) + \\left \\langle \\bigtriangledown f(x_{k+1}), x-x_{k+1} \\right \\rangle + h(x)+\\frac{1}{2\\lambda}\\left \\| x-x_{k+1} \\right \\|^2 -(f+h)(x_*) \\geq \\frac{1}{2\\lambda}\\left \\| x-x_* \\right \\|^2$$"
   ]
  },
  {
   "cell_type": "markdown",
   "id": "5e7f0187-bed1-4d85-9554-67ca092febee",
   "metadata": {},
   "source": [
    "Which is equal to "
   ]
  },
  {
   "cell_type": "markdown",
   "id": "39a3c1db-6596-430a-a9e0-9aa7e67a8374",
   "metadata": {},
   "source": [
    "$$ (f+h)(x_{k+1})-(f+h)(x_*) \\geq \\frac{1}{2\\lambda}\\left \\| x_{k+1}-x_* \\right \\|^2 -\\frac{1}{2\\lambda}\\left \\| x-x_{k+1} \\right \\|^2 +f(x_{k+1}) + \\ell_f(x;x_{k+1}) $$"
   ]
  },
  {
   "cell_type": "markdown",
   "id": "211c987c-c7d1-451f-ac95-429e9bbd5faf",
   "metadata": {},
   "source": [
    "$$(f+h)(x_*)+\\frac{1}{2\\lambda}||x_k-x_*||^2 \\geq (f+h)(x_{k+1})+h(x_{k+1})+ \\frac{1}{2\\lambda}||x_{k+1}-x_*||^2$$"
   ]
  },
  {
   "cell_type": "markdown",
   "id": "4fbb94de-a28d-4c2d-93a8-663e2d339aed",
   "metadata": {},
   "source": [
    "Using $$ \\frac{1}{2\\lambda}((f+h)(x_*)-(f+h)(x_{k+1})) \\geq \\left \\| x_*-x_{k+1} \\right \\|^2 -\\left \\| x_*-x_k \\right \\|^2 + \\frac{1}{2\\lambda}\\ell_f(x_*,x_k)$$"
   ]
  },
  {
   "cell_type": "markdown",
   "id": "5c4ca187-104f-41e3-888e-438ac4cbf4e5",
   "metadata": {},
   "source": [
    "$$ \\frac{1}{2\\lambda}((f+h)(x_*)-(f+h)(x_{k+1})) \\geq \\left \\| x_*-x_{k+1} \\right \\|^2 -\\left \\| x_*-x_k \\right \\|^2 $$"
   ]
  },
  {
   "cell_type": "markdown",
   "id": "7e3b7af4-d91f-4f66-9aec-00a85029701a",
   "metadata": {},
   "source": [
    "Sum over all n from 0 to k to obtain:\n",
    "$$\n",
    "\\frac{1}{2\\lambda}\\sum_{}^{k}(f+h)(x_*)-(f+h)(x_{k+1}) \\geq \\left \\| x_*-x_k \\right \\|^2-\\left \\| x_*-x_0 \\right \\|^2\n",
    "$$"
   ]
  },
  {
   "cell_type": "markdown",
   "id": "78b72791-9036-4108-97b5-897f616e4b53",
   "metadata": {},
   "source": [
    "Thus\n",
    "$$\n",
    "\\sum_{}^{k}((f+h)(x_{k+1})-(f+h)(x_*)) \\leq \\frac{1}{2\\lambda}\\left \\| x_*-x_0 \\right \\|^2-\\frac{1}{2\\lambda}\\left \\| x_*-x_k \\right \\|^2 \\leq \\frac{1}{2\\lambda}\\left \\| x_*-x_0 \\right \\|^2\n",
    "$$"
   ]
  },
  {
   "cell_type": "markdown",
   "id": "0cc66cdb-65db-4573-a413-f6f2b91360ae",
   "metadata": {},
   "source": [
    "Given the monotonicity of $(f+h)(x_n)$ for $n \\geq 0$\n",
    "$$ \n",
    "k((f+h)(x_k)-(f+h)(x_*)) \\leq \\sum_{}^{k}((f+h)(x_{k+1})-(f+h)(x_*)) \\leq \\frac{1}{2\\lambda}\\left \\| x_*-x_0 \\right \\|^2\n",
    "$$"
   ]
  },
  {
   "cell_type": "markdown",
   "id": "792eb5b5-127a-419d-a5fd-ca899ba32a47",
   "metadata": {},
   "source": [
    "Thus $$\\sum_{i=1}^k (f+h)(x_i)-k(f+h)(x_*) \\leq \\frac{||x_0-x_*||^2}{2\\lambda} $$\n"
   ]
  },
  {
   "cell_type": "markdown",
   "id": "c6fc25c9-e701-4637-95db-3c110d6ccdf9",
   "metadata": {},
   "source": [
    "Proving PGM has the descent property:"
   ]
  },
  {
   "cell_type": "markdown",
   "id": "badee0ff-5717-4481-8845-b1573b14714c",
   "metadata": {},
   "source": [
    "$$(f+h)(x_k) \\geq (f+h)(x_{k+1}), \\forall k \\geq 0 $$"
   ]
  },
  {
   "cell_type": "markdown",
   "id": "6f2db67c-3ea8-450f-b7c9-0df81a070c5f",
   "metadata": {},
   "source": [
    "$$ \\frac{1}{2\\lambda}((f+h)(x_*)-(f+h)(x_{k+1})) \\geq \\left \\| x_*-x_{k+1} \\right \\|^2 -\\left \\| x_*-x_k \\right \\|^2 + \\frac{1}{2\\lambda}\\ell_f(x_*,x_k)$$"
   ]
  },
  {
   "cell_type": "markdown",
   "id": "c2c46548-946a-45c5-8bc2-8eab51b3e9ea",
   "metadata": {},
   "source": [
    "Along with the relationship: $$ \\left \\| x_{k+1} -x_*\\right \\| \\leq \\left \\| x_k-x_* \\right \\|$$"
   ]
  },
  {
   "cell_type": "markdown",
   "id": "8eb9912d-dbc6-4276-9e59-6605c4a03821",
   "metadata": {},
   "source": [
    "It follows that: $$ (f+h)(x_*)-(f+h)(x_{k+1}) \\leq (f+h)(x_*)-(f+h)(x_{k}) \\leq 0$$"
   ]
  },
  {
   "cell_type": "markdown",
   "id": "98adda48-0838-49d7-b51e-3cdb822f68ab",
   "metadata": {},
   "source": [
    "Thus for all k $\\geq 0$ $$(f+h)(x_{k+1}) \\leq (f+h)(x_{k}) $$"
   ]
  },
  {
   "cell_type": "markdown",
   "id": "9707a214-b66b-4ea9-b226-ded5586e69dc",
   "metadata": {},
   "source": [
    "Finally, given the above:\n",
    "$$ \n",
    "k((f+h)(x_k)-(f+h)(x_*)) \\leq \\sum_{}^{k}((f+h)(x_{k+1})-(f+h)(x_*)) \\leq \\frac{1}{2\\lambda}\\left \\| x_0-x_* \\right \\|^2\n",
    "$$\n",
    "Consequently\n",
    "$$ (f+h)(x_i)-(f+h)(x_*) \\leq  \\frac{1}{k2\\lambda}||x_0-x_*||^2 $$"
   ]
  },
  {
   "cell_type": "markdown",
   "id": "666f32f5-5c41-432a-82c1-1afc0115c5f3",
   "metadata": {},
   "source": [
    "Hence we obtain the $O(\\frac{1}{k})$ convergence rate"
   ]
  }
 ],
 "metadata": {
  "kernelspec": {
   "display_name": "Python 3",
   "language": "python",
   "name": "python3"
  },
  "language_info": {
   "codemirror_mode": {
    "name": "ipython",
    "version": 3
   },
   "file_extension": ".py",
   "mimetype": "text/x-python",
   "name": "python",
   "nbconvert_exporter": "python",
   "pygments_lexer": "ipython3",
   "version": "3.8.8"
  }
 },
 "nbformat": 4,
 "nbformat_minor": 5
}
